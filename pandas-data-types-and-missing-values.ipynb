{
 "cells": [
  {
   "cell_type": "markdown",
   "id": "c7cf197d",
   "metadata": {
    "papermill": {
     "duration": 0.006431,
     "end_time": "2023-08-15T16:51:00.865975",
     "exception": false,
     "start_time": "2023-08-15T16:51:00.859544",
     "status": "completed"
    },
    "tags": []
   },
   "source": [
    "**This notebook is an exercise in the [Pandas](https://www.kaggle.com/learn/pandas) course.  You can reference the tutorial at [this link](https://www.kaggle.com/residentmario/data-types-and-missing-values).**\n",
    "\n",
    "---\n"
   ]
  },
  {
   "cell_type": "markdown",
   "id": "f86fbf07",
   "metadata": {
    "papermill": {
     "duration": 0.005525,
     "end_time": "2023-08-15T16:51:00.877643",
     "exception": false,
     "start_time": "2023-08-15T16:51:00.872118",
     "status": "completed"
    },
    "tags": []
   },
   "source": [
    "# Introduction\n",
    "\n",
    "Run the following cell to load your data and some utility functions."
   ]
  },
  {
   "cell_type": "code",
   "execution_count": 1,
   "id": "4100fa4f",
   "metadata": {
    "execution": {
     "iopub.execute_input": "2023-08-15T16:51:00.891084Z",
     "iopub.status.busy": "2023-08-15T16:51:00.890669Z",
     "iopub.status.idle": "2023-08-15T16:51:04.393595Z",
     "shell.execute_reply": "2023-08-15T16:51:04.392139Z"
    },
    "papermill": {
     "duration": 3.513404,
     "end_time": "2023-08-15T16:51:04.396840",
     "exception": false,
     "start_time": "2023-08-15T16:51:00.883436",
     "status": "completed"
    },
    "tags": []
   },
   "outputs": [
    {
     "name": "stdout",
     "output_type": "stream",
     "text": [
      "Setup complete.\n"
     ]
    }
   ],
   "source": [
    "import pandas as pd\n",
    "\n",
    "reviews = pd.read_csv(\"../input/wine-reviews/winemag-data-130k-v2.csv\", index_col=0)\n",
    "\n",
    "from learntools.core import binder; binder.bind(globals())\n",
    "from learntools.pandas.data_types_and_missing_data import *\n",
    "print(\"Setup complete.\")"
   ]
  },
  {
   "cell_type": "markdown",
   "id": "f30fe664",
   "metadata": {
    "papermill": {
     "duration": 0.005993,
     "end_time": "2023-08-15T16:51:04.409105",
     "exception": false,
     "start_time": "2023-08-15T16:51:04.403112",
     "status": "completed"
    },
    "tags": []
   },
   "source": [
    "# Exercises"
   ]
  },
  {
   "cell_type": "markdown",
   "id": "330b6e17",
   "metadata": {
    "papermill": {
     "duration": 0.005812,
     "end_time": "2023-08-15T16:51:04.421314",
     "exception": false,
     "start_time": "2023-08-15T16:51:04.415502",
     "status": "completed"
    },
    "tags": []
   },
   "source": [
    "## 1. \n",
    "What is the data type of the `points` column in the dataset?"
   ]
  },
  {
   "cell_type": "code",
   "execution_count": 2,
   "id": "fddc01ae",
   "metadata": {
    "execution": {
     "iopub.execute_input": "2023-08-15T16:51:04.435498Z",
     "iopub.status.busy": "2023-08-15T16:51:04.435063Z",
     "iopub.status.idle": "2023-08-15T16:51:04.445627Z",
     "shell.execute_reply": "2023-08-15T16:51:04.444729Z"
    },
    "papermill": {
     "duration": 0.020671,
     "end_time": "2023-08-15T16:51:04.448225",
     "exception": false,
     "start_time": "2023-08-15T16:51:04.427554",
     "status": "completed"
    },
    "tags": []
   },
   "outputs": [
    {
     "data": {
      "application/javascript": [
       "parent.postMessage({\"jupyterEvent\": \"custom.exercise_interaction\", \"data\": {\"outcomeType\": 1, \"valueTowardsCompletion\": 0.25, \"interactionType\": 1, \"questionType\": 1, \"questionId\": \"1_PointsDtype\", \"learnToolsVersion\": \"0.3.4\", \"failureMessage\": \"\", \"exceptionClass\": \"\", \"trace\": \"\"}}, \"*\")"
      ],
      "text/plain": [
       "<IPython.core.display.Javascript object>"
      ]
     },
     "metadata": {},
     "output_type": "display_data"
    },
    {
     "data": {
      "text/markdown": [
       "<span style=\"color:#33cc33\">Correct</span>"
      ],
      "text/plain": [
       "Correct"
      ]
     },
     "metadata": {},
     "output_type": "display_data"
    }
   ],
   "source": [
    "# Your code here\n",
    "dtype = reviews.points.dtype\n",
    "\n",
    "# Check your answer\n",
    "q1.check()"
   ]
  },
  {
   "cell_type": "code",
   "execution_count": 3,
   "id": "0ba2756a",
   "metadata": {
    "execution": {
     "iopub.execute_input": "2023-08-15T16:51:04.463457Z",
     "iopub.status.busy": "2023-08-15T16:51:04.462788Z",
     "iopub.status.idle": "2023-08-15T16:51:04.466655Z",
     "shell.execute_reply": "2023-08-15T16:51:04.465838Z"
    },
    "papermill": {
     "duration": 0.014327,
     "end_time": "2023-08-15T16:51:04.469038",
     "exception": false,
     "start_time": "2023-08-15T16:51:04.454711",
     "status": "completed"
    },
    "tags": []
   },
   "outputs": [],
   "source": [
    "#q1.hint()\n",
    "#q1.solution()"
   ]
  },
  {
   "cell_type": "markdown",
   "id": "eef4f21e",
   "metadata": {
    "papermill": {
     "duration": 0.006293,
     "end_time": "2023-08-15T16:51:04.481718",
     "exception": false,
     "start_time": "2023-08-15T16:51:04.475425",
     "status": "completed"
    },
    "tags": []
   },
   "source": [
    "## 2. \n",
    "Create a Series from entries in the `points` column, but convert the entries to strings. Hint: strings are `str` in native Python."
   ]
  },
  {
   "cell_type": "code",
   "execution_count": 4,
   "id": "adcdfec4",
   "metadata": {
    "execution": {
     "iopub.execute_input": "2023-08-15T16:51:04.496783Z",
     "iopub.status.busy": "2023-08-15T16:51:04.496324Z",
     "iopub.status.idle": "2023-08-15T16:51:04.607541Z",
     "shell.execute_reply": "2023-08-15T16:51:04.606394Z"
    },
    "papermill": {
     "duration": 0.121887,
     "end_time": "2023-08-15T16:51:04.610015",
     "exception": false,
     "start_time": "2023-08-15T16:51:04.488128",
     "status": "completed"
    },
    "tags": []
   },
   "outputs": [
    {
     "data": {
      "application/javascript": [
       "parent.postMessage({\"jupyterEvent\": \"custom.exercise_interaction\", \"data\": {\"outcomeType\": 1, \"valueTowardsCompletion\": 0.25, \"interactionType\": 1, \"questionType\": 1, \"questionId\": \"2_StrPoints\", \"learnToolsVersion\": \"0.3.4\", \"failureMessage\": \"\", \"exceptionClass\": \"\", \"trace\": \"\"}}, \"*\")"
      ],
      "text/plain": [
       "<IPython.core.display.Javascript object>"
      ]
     },
     "metadata": {},
     "output_type": "display_data"
    },
    {
     "data": {
      "text/markdown": [
       "<span style=\"color:#33cc33\">Correct</span>"
      ],
      "text/plain": [
       "Correct"
      ]
     },
     "metadata": {},
     "output_type": "display_data"
    }
   ],
   "source": [
    "point_strings = reviews.points.astype(str)\n",
    "\n",
    "# Check your answer\n",
    "q2.check()"
   ]
  },
  {
   "cell_type": "code",
   "execution_count": 5,
   "id": "46a11608",
   "metadata": {
    "execution": {
     "iopub.execute_input": "2023-08-15T16:51:04.625495Z",
     "iopub.status.busy": "2023-08-15T16:51:04.624937Z",
     "iopub.status.idle": "2023-08-15T16:51:04.630874Z",
     "shell.execute_reply": "2023-08-15T16:51:04.629049Z"
    },
    "papermill": {
     "duration": 0.016958,
     "end_time": "2023-08-15T16:51:04.633490",
     "exception": false,
     "start_time": "2023-08-15T16:51:04.616532",
     "status": "completed"
    },
    "tags": []
   },
   "outputs": [],
   "source": [
    "#q2.hint()\n",
    "#q2.solution()"
   ]
  },
  {
   "cell_type": "markdown",
   "id": "b13f6777",
   "metadata": {
    "papermill": {
     "duration": 0.006429,
     "end_time": "2023-08-15T16:51:04.648017",
     "exception": false,
     "start_time": "2023-08-15T16:51:04.641588",
     "status": "completed"
    },
    "tags": []
   },
   "source": [
    "## 3.\n",
    "Sometimes the price column is null. How many reviews in the dataset are missing a price?"
   ]
  },
  {
   "cell_type": "code",
   "execution_count": 6,
   "id": "f101d917",
   "metadata": {
    "execution": {
     "iopub.execute_input": "2023-08-15T16:51:04.663408Z",
     "iopub.status.busy": "2023-08-15T16:51:04.662900Z",
     "iopub.status.idle": "2023-08-15T16:51:04.675795Z",
     "shell.execute_reply": "2023-08-15T16:51:04.674549Z"
    },
    "papermill": {
     "duration": 0.023529,
     "end_time": "2023-08-15T16:51:04.678155",
     "exception": false,
     "start_time": "2023-08-15T16:51:04.654626",
     "status": "completed"
    },
    "tags": []
   },
   "outputs": [
    {
     "name": "stdout",
     "output_type": "stream",
     "text": [
      "8996\n"
     ]
    },
    {
     "data": {
      "application/javascript": [
       "parent.postMessage({\"jupyterEvent\": \"custom.exercise_interaction\", \"data\": {\"outcomeType\": 1, \"valueTowardsCompletion\": 0.25, \"interactionType\": 1, \"questionType\": 1, \"questionId\": \"3_CountMissingPrices\", \"learnToolsVersion\": \"0.3.4\", \"failureMessage\": \"\", \"exceptionClass\": \"\", \"trace\": \"\"}}, \"*\")"
      ],
      "text/plain": [
       "<IPython.core.display.Javascript object>"
      ]
     },
     "metadata": {},
     "output_type": "display_data"
    },
    {
     "data": {
      "text/markdown": [
       "<span style=\"color:#33cc33\">Correct</span>"
      ],
      "text/plain": [
       "Correct"
      ]
     },
     "metadata": {},
     "output_type": "display_data"
    }
   ],
   "source": [
    "n_missing_prices = reviews.price.isnull().sum()\n",
    "print(n_missing_prices)\n",
    "# Check your answer\n",
    "q3.check()"
   ]
  },
  {
   "cell_type": "code",
   "execution_count": 7,
   "id": "52a08bba",
   "metadata": {
    "execution": {
     "iopub.execute_input": "2023-08-15T16:51:04.694984Z",
     "iopub.status.busy": "2023-08-15T16:51:04.694511Z",
     "iopub.status.idle": "2023-08-15T16:51:04.705232Z",
     "shell.execute_reply": "2023-08-15T16:51:04.703873Z"
    },
    "papermill": {
     "duration": 0.022409,
     "end_time": "2023-08-15T16:51:04.707828",
     "exception": false,
     "start_time": "2023-08-15T16:51:04.685419",
     "status": "completed"
    },
    "tags": []
   },
   "outputs": [
    {
     "data": {
      "application/javascript": [
       "parent.postMessage({\"jupyterEvent\": \"custom.exercise_interaction\", \"data\": {\"interactionType\": 3, \"questionType\": 1, \"questionId\": \"3_CountMissingPrices\", \"learnToolsVersion\": \"0.3.4\", \"valueTowardsCompletion\": 0.0, \"failureMessage\": \"\", \"exceptionClass\": \"\", \"trace\": \"\", \"outcomeType\": 4}}, \"*\")"
      ],
      "text/plain": [
       "<IPython.core.display.Javascript object>"
      ]
     },
     "metadata": {},
     "output_type": "display_data"
    },
    {
     "data": {
      "text/markdown": [
       "<span style=\"color:#33cc99\">Solution:</span> \n",
       "```python\n",
       "missing_price_reviews = reviews[reviews.price.isnull()]\n",
       "n_missing_prices = len(missing_price_reviews)\n",
       "# Cute alternative solution: if we sum a boolean series, True is treated as 1 and False as 0\n",
       "n_missing_prices = reviews.price.isnull().sum()\n",
       "# or equivalently:\n",
       "n_missing_prices = pd.isnull(reviews.price).sum()\n",
       "\n",
       "```"
      ],
      "text/plain": [
       "Solution: \n",
       "```python\n",
       "missing_price_reviews = reviews[reviews.price.isnull()]\n",
       "n_missing_prices = len(missing_price_reviews)\n",
       "# Cute alternative solution: if we sum a boolean series, True is treated as 1 and False as 0\n",
       "n_missing_prices = reviews.price.isnull().sum()\n",
       "# or equivalently:\n",
       "n_missing_prices = pd.isnull(reviews.price).sum()\n",
       "\n",
       "```"
      ]
     },
     "metadata": {},
     "output_type": "display_data"
    }
   ],
   "source": [
    "#q3.hint()\n",
    "q3.solution()"
   ]
  },
  {
   "cell_type": "markdown",
   "id": "1888a86e",
   "metadata": {
    "papermill": {
     "duration": 0.007097,
     "end_time": "2023-08-15T16:51:04.722193",
     "exception": false,
     "start_time": "2023-08-15T16:51:04.715096",
     "status": "completed"
    },
    "tags": []
   },
   "source": [
    "## 4.\n",
    "What are the most common wine-producing regions? Create a Series counting the number of times each value occurs in the `region_1` field. This field is often missing data, so replace missing values with `Unknown`. Sort in descending order.  Your output should look something like this:\n",
    "\n",
    "```\n",
    "Unknown                    21247\n",
    "Napa Valley                 4480\n",
    "                           ...  \n",
    "Bardolino Superiore            1\n",
    "Primitivo del Tarantino        1\n",
    "Name: region_1, Length: 1230, dtype: int64\n",
    "```"
   ]
  },
  {
   "cell_type": "code",
   "execution_count": 8,
   "id": "8e6d53af",
   "metadata": {
    "execution": {
     "iopub.execute_input": "2023-08-15T16:51:04.739524Z",
     "iopub.status.busy": "2023-08-15T16:51:04.738574Z",
     "iopub.status.idle": "2023-08-15T16:51:04.825603Z",
     "shell.execute_reply": "2023-08-15T16:51:04.823842Z"
    },
    "papermill": {
     "duration": 0.099,
     "end_time": "2023-08-15T16:51:04.828604",
     "exception": false,
     "start_time": "2023-08-15T16:51:04.729604",
     "status": "completed"
    },
    "tags": []
   },
   "outputs": [
    {
     "data": {
      "application/javascript": [
       "parent.postMessage({\"jupyterEvent\": \"custom.exercise_interaction\", \"data\": {\"outcomeType\": 1, \"valueTowardsCompletion\": 0.25, \"interactionType\": 1, \"questionType\": 2, \"questionId\": \"4_ReviewsPerRegion\", \"learnToolsVersion\": \"0.3.4\", \"failureMessage\": \"\", \"exceptionClass\": \"\", \"trace\": \"\"}}, \"*\")"
      ],
      "text/plain": [
       "<IPython.core.display.Javascript object>"
      ]
     },
     "metadata": {},
     "output_type": "display_data"
    },
    {
     "data": {
      "text/markdown": [
       "<span style=\"color:#33cc33\">Correct</span>"
      ],
      "text/plain": [
       "Correct"
      ]
     },
     "metadata": {},
     "output_type": "display_data"
    }
   ],
   "source": [
    "\n",
    "reviews_per_region = reviews.region_1.fillna(\"Unknown\").value_counts().sort_values(ascending=False)\n",
    "reviews.columns\n",
    "# Check your answer\n",
    "q4.check()"
   ]
  },
  {
   "cell_type": "code",
   "execution_count": 9,
   "id": "4d3b2786",
   "metadata": {
    "execution": {
     "iopub.execute_input": "2023-08-15T16:51:04.847370Z",
     "iopub.status.busy": "2023-08-15T16:51:04.846360Z",
     "iopub.status.idle": "2023-08-15T16:51:04.855935Z",
     "shell.execute_reply": "2023-08-15T16:51:04.854820Z"
    },
    "papermill": {
     "duration": 0.021712,
     "end_time": "2023-08-15T16:51:04.858622",
     "exception": false,
     "start_time": "2023-08-15T16:51:04.836910",
     "status": "completed"
    },
    "tags": []
   },
   "outputs": [
    {
     "data": {
      "application/javascript": [
       "parent.postMessage({\"jupyterEvent\": \"custom.exercise_interaction\", \"data\": {\"interactionType\": 3, \"questionType\": 2, \"questionId\": \"4_ReviewsPerRegion\", \"learnToolsVersion\": \"0.3.4\", \"valueTowardsCompletion\": 0.0, \"failureMessage\": \"\", \"exceptionClass\": \"\", \"trace\": \"\", \"outcomeType\": 4}}, \"*\")"
      ],
      "text/plain": [
       "<IPython.core.display.Javascript object>"
      ]
     },
     "metadata": {},
     "output_type": "display_data"
    },
    {
     "data": {
      "text/markdown": [
       "<span style=\"color:#33cc99\">Solution:</span> \n",
       "```python\n",
       "reviews_per_region = reviews.region_1.fillna('Unknown').value_counts().sort_values(ascending=False)\n",
       "```"
      ],
      "text/plain": [
       "Solution: \n",
       "```python\n",
       "reviews_per_region = reviews.region_1.fillna('Unknown').value_counts().sort_values(ascending=False)\n",
       "```"
      ]
     },
     "metadata": {},
     "output_type": "display_data"
    }
   ],
   "source": [
    "#q4.hint()\n",
    "q4.solution()"
   ]
  },
  {
   "cell_type": "markdown",
   "id": "b8ee98a8",
   "metadata": {
    "papermill": {
     "duration": 0.007861,
     "end_time": "2023-08-15T16:51:04.874388",
     "exception": false,
     "start_time": "2023-08-15T16:51:04.866527",
     "status": "completed"
    },
    "tags": []
   },
   "source": [
    "# Keep going\n",
    "\n",
    "Move on to **[renaming and combining](https://www.kaggle.com/residentmario/renaming-and-combining)**."
   ]
  },
  {
   "cell_type": "markdown",
   "id": "c83b851c",
   "metadata": {
    "papermill": {
     "duration": 0.007722,
     "end_time": "2023-08-15T16:51:04.890145",
     "exception": false,
     "start_time": "2023-08-15T16:51:04.882423",
     "status": "completed"
    },
    "tags": []
   },
   "source": [
    "---\n",
    "\n",
    "\n",
    "\n",
    "\n",
    "*Have questions or comments? Visit the [course discussion forum](https://www.kaggle.com/learn/pandas/discussion) to chat with other learners.*"
   ]
  }
 ],
 "metadata": {
  "kernelspec": {
   "display_name": "Python 3",
   "language": "python",
   "name": "python3"
  },
  "language_info": {
   "codemirror_mode": {
    "name": "ipython",
    "version": 3
   },
   "file_extension": ".py",
   "mimetype": "text/x-python",
   "name": "python",
   "nbconvert_exporter": "python",
   "pygments_lexer": "ipython3",
   "version": "3.10.12"
  },
  "papermill": {
   "default_parameters": {},
   "duration": 16.777595,
   "end_time": "2023-08-15T16:51:05.820974",
   "environment_variables": {},
   "exception": null,
   "input_path": "__notebook__.ipynb",
   "output_path": "__notebook__.ipynb",
   "parameters": {},
   "start_time": "2023-08-15T16:50:49.043379",
   "version": "2.4.0"
  }
 },
 "nbformat": 4,
 "nbformat_minor": 5
}
