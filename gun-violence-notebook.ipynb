{
 "cells": [
  {
   "cell_type": "code",
   "execution_count": 1,
   "id": "5eb87bc1",
   "metadata": {
    "_cell_guid": "b1076dfc-b9ad-4769-8c92-a6c4dae69d19",
    "_kg_hide-input": true,
    "_kg_hide-output": true,
    "_uuid": "8f2839f25d086af736a60e9eeb907d3b93b6e0e5",
    "execution": {
     "iopub.execute_input": "2023-08-16T18:45:39.897387Z",
     "iopub.status.busy": "2023-08-16T18:45:39.897063Z",
     "iopub.status.idle": "2023-08-16T18:45:39.915007Z",
     "shell.execute_reply": "2023-08-16T18:45:39.914301Z"
    },
    "papermill": {
     "duration": 0.027889,
     "end_time": "2023-08-16T18:45:39.916797",
     "exception": false,
     "start_time": "2023-08-16T18:45:39.888908",
     "status": "completed"
    },
    "tags": []
   },
   "outputs": [
    {
     "name": "stdout",
     "output_type": "stream",
     "text": [
      "/kaggle/input/gun-violence-data/gun-violence-data_01-2013_03-2018.csv\n"
     ]
    }
   ],
   "source": [
    "# This Python 3 environment comes with many helpful analytics libraries installed\n",
    "# It is defined by the kaggle/python Docker image: https://github.com/kaggle/docker-python\n",
    "# For example, here's several helpful packages to load\n",
    "\n",
    "import numpy as np # linear algebra\n",
    "import pandas as pd # data processing, CSV file I/O (e.g. pd.read_csv)\n",
    "\n",
    "# Input data files are available in the read-only \"../input/\" directory\n",
    "# For example, running this (by clicking run or pressing Shift+Enter) will list all files under the input directory\n",
    "\n",
    "import os\n",
    "for dirname, _, filenames in os.walk('/kaggle/input'):\n",
    "    for filename in filenames:\n",
    "        print(os.path.join(dirname, filename))\n",
    "\n",
    "# You can write up to 20GB to the current directory (/kaggle/working/) that gets preserved as output when you create a version using \"Save & Run All\" \n",
    "# You can also write temporary files to /kaggle/temp/, but they won't be saved outside of the current session"
   ]
  },
  {
   "cell_type": "markdown",
   "id": "b9551301",
   "metadata": {
    "papermill": {
     "duration": 0.005745,
     "end_time": "2023-08-16T18:45:39.928816",
     "exception": false,
     "start_time": "2023-08-16T18:45:39.923071",
     "status": "completed"
    },
    "tags": []
   },
   "source": [
    "**What do I want to find from this dataset?**\n",
    "- State with most gun violence\n",
    "    - Create graph from matplot.lib library using seaborne for color presentation\n",
    "- Count of victims and Suspects. Possibility of ratio between the two\n",
    "    - Genearte two sepearte columns for victims and suspects, currenlty they're in a single column\n",
    "- Graph of relation between male and female victims vs suspects to find a possible correlation\n",
    "- Create a model by using train_split_model, scikit-learn library (may be no need)"
   ]
  },
  {
   "cell_type": "markdown",
   "id": "2f85f619",
   "metadata": {
    "papermill": {
     "duration": 0.006111,
     "end_time": "2023-08-16T18:45:39.941821",
     "exception": false,
     "start_time": "2023-08-16T18:45:39.935710",
     "status": "completed"
    },
    "tags": []
   },
   "source": [
    "**What have i done:**\n",
    "1. Loaded the csv data into a dataframe\n",
    "2. Observed the dattypes and column name/formatting\n",
    "    * Methods used: describe, head, dtype, drop, columns, unique\n",
    "3. Transform from object datatype to appropriate datatype\n",
    "Note: Before I complete the object transformations need to create new columns w/in the values that have '::' delimiters"
   ]
  },
  {
   "cell_type": "code",
   "execution_count": 2,
   "id": "194cfb2e",
   "metadata": {
    "execution": {
     "iopub.execute_input": "2023-08-16T18:45:39.955598Z",
     "iopub.status.busy": "2023-08-16T18:45:39.955108Z",
     "iopub.status.idle": "2023-08-16T18:45:43.847866Z",
     "shell.execute_reply": "2023-08-16T18:45:43.846484Z"
    },
    "papermill": {
     "duration": 3.902403,
     "end_time": "2023-08-16T18:45:43.850222",
     "exception": false,
     "start_time": "2023-08-16T18:45:39.947819",
     "status": "completed"
    },
    "tags": []
   },
   "outputs": [],
   "source": [
    "#Using the kaggle dataset 'Gun Violence' posted by James Ko\n",
    "gun_vio_path = '../input/gun-violence-data/gun-violence-data_01-2013_03-2018.csv'\n",
    "\n",
    "#Dataframe gun_data\n",
    "gun_data = pd.read_csv(gun_vio_path)"
   ]
  },
  {
   "cell_type": "markdown",
   "id": "5ffa7d4f",
   "metadata": {
    "papermill": {
     "duration": 0.005986,
     "end_time": "2023-08-16T18:45:43.864991",
     "exception": false,
     "start_time": "2023-08-16T18:45:43.859005",
     "status": "completed"
    },
    "tags": []
   },
   "source": [
    "* I have read the csv file into my new dataframe called 'gun_data'. Then I will be drop the columns I will not be using in the analysis. "
   ]
  },
  {
   "cell_type": "code",
   "execution_count": 3,
   "id": "dba8b28e",
   "metadata": {
    "execution": {
     "iopub.execute_input": "2023-08-16T18:45:43.878888Z",
     "iopub.status.busy": "2023-08-16T18:45:43.878548Z",
     "iopub.status.idle": "2023-08-16T18:45:44.016889Z",
     "shell.execute_reply": "2023-08-16T18:45:44.015779Z"
    },
    "papermill": {
     "duration": 0.147907,
     "end_time": "2023-08-16T18:45:44.019185",
     "exception": false,
     "start_time": "2023-08-16T18:45:43.871278",
     "status": "completed"
    },
    "tags": []
   },
   "outputs": [
    {
     "data": {
      "text/plain": [
       "Index(['incident_id', 'date', 'state', 'city_or_county', 'n_killed',\n",
       "       'n_injured', 'congressional_district', 'incident_characteristics',\n",
       "       'location_description', 'n_guns_involved', 'notes',\n",
       "       'participant_age_group', 'participant_gender', 'participant_name',\n",
       "       'participant_relationship', 'participant_status', 'participant_type'],\n",
       "      dtype='object')"
      ]
     },
     "execution_count": 3,
     "metadata": {},
     "output_type": "execute_result"
    }
   ],
   "source": [
    "# The following are the columns dropped\n",
    "# Longitude and Latitude may be used for a geographical graph\n",
    "\n",
    "gun_data=gun_data.drop(['state_house_district','state_senate_district','address', 'participant_age', 'latitude', 'longitude', 'gun_stolen', 'gun_type'], axis=1)\n",
    "gun_data=gun_data.drop(['incident_url', 'source_url', 'incident_url_fields_missing', 'sources'], axis=1)\n",
    "\n",
    "gun_data.columns"
   ]
  },
  {
   "cell_type": "markdown",
   "id": "4c85cc7c",
   "metadata": {
    "papermill": {
     "duration": 0.006639,
     "end_time": "2023-08-16T18:45:44.033165",
     "exception": false,
     "start_time": "2023-08-16T18:45:44.026526",
     "status": "completed"
    },
    "tags": []
   },
   "source": [
    "* Afterwards I want to obtain an overview of the columns and their datatypes by using describe and dtypes method"
   ]
  },
  {
   "cell_type": "code",
   "execution_count": 4,
   "id": "d785b043",
   "metadata": {
    "_kg_hide-input": true,
    "_kg_hide-output": true,
    "collapsed": true,
    "execution": {
     "iopub.execute_input": "2023-08-16T18:45:44.047253Z",
     "iopub.status.busy": "2023-08-16T18:45:44.046925Z",
     "iopub.status.idle": "2023-08-16T18:45:44.066428Z",
     "shell.execute_reply": "2023-08-16T18:45:44.065081Z"
    },
    "jupyter": {
     "outputs_hidden": true
    },
    "papermill": {
     "duration": 0.029139,
     "end_time": "2023-08-16T18:45:44.068705",
     "exception": false,
     "start_time": "2023-08-16T18:45:44.039566",
     "status": "completed"
    },
    "tags": []
   },
   "outputs": [
    {
     "data": {
      "text/plain": [
       "array([nan, '3::Family', '5::Family',\n",
       "       '4::Drive by - Random victims||5::Drive by - Random victims||6::Drive by - Random victims',\n",
       "       '7::Aquaintance', '5::Gang vs Gang||6::Gang vs Gang',\n",
       "       '4::Gang vs Gang', '6::Significant others - current or former',\n",
       "       '4::Armed Robbery', '4::Significant others - current or former',\n",
       "       '0::Family', '4::Gang vs Gang||5::Gang vs Gang', '4::Family',\n",
       "       '4::Armed Robbery||5::Armed Robbery||6::Armed Robbery||7::Armed Robbery',\n",
       "       '5::Gang vs Gang', '4::Mass shooting - Random victims',\n",
       "       '6::Mass shooting - Perp Knows Victims',\n",
       "       '8::Significant others - current or former', '4::Co-worker',\n",
       "       '15::Co-worker',\n",
       "       '13::Gang vs Gang||14::Gang vs Gang||15::Gang vs Gang||16::Gang vs Gang||17::Gang vs Gang||18::Gang vs Gang||19::Gang vs Gang',\n",
       "       '4::Neighbor', '5::Significant others - current or former',\n",
       "       '4::Friends', '1::Significant others - current or former',\n",
       "       '9::Mass shooting - Random victims', '1::Family', '1::Friends',\n",
       "       '1::Armed Robbery', '2::Family', '1::Neighbor',\n",
       "       '1::Armed Robbery||2::Armed Robbery',\n",
       "       '1::Home Invasion - Perp Does Not Know Victim||2::Home Invasion - Perp Does Not Know Victim||3::Home Invasion - Perp Does Not Know Victim',\n",
       "       '1::Home Invasion - Perp Knows Victim',\n",
       "       '0::Armed Robbery||1::Armed Robbery',\n",
       "       '1::Family||2::Family||3::Family||4::Family',\n",
       "       '2::Significant others - current or former',\n",
       "       '0::Significant others - current or former',\n",
       "       '1::Armed Robbery||2::Armed Robbery||3::Armed Robbery||4::Armed Robbery',\n",
       "       '3::Aquaintance',\n",
       "       '2::Home Invasion - Perp Does Not Know Victim||3::Home Invasion - Perp Does Not Know Victim',\n",
       "       '2::Friends',\n",
       "       '1::Aquaintance||2::Significant others - current or former',\n",
       "       '2::Family||3::Family', '2::Neighbor', '2::Aquaintance',\n",
       "       '3::Armed Robbery||4::Armed Robbery', '1::Aquaintance',\n",
       "       '3::Significant others - current or former', '1:Friends',\n",
       "       '1:Significant others - current or former', '4:Family', '2:Family',\n",
       "       '1:Family', '1:Armed Robbery',\n",
       "       '1:Armed Robbery|2:Armed Robbery|3:Armed Robbery',\n",
       "       '1:Home Invasion - Perp Knows Victim|2:Home Invasion - Perp Knows Victim|3:Home Invasion - Perp Knows Victim',\n",
       "       '1:Aquaintance', '0:Armed Robbery', '2:Aquaintance',\n",
       "       '1:Friends|2:Armed Robbery', '2:Friends', '2:Armed Robbery',\n",
       "       '2:Significant others - current or former',\n",
       "       '2:Armed Robbery|3:Armed Robbery|4:Armed Robbery',\n",
       "       '1:Armed Robbery|2:Armed Robbery|3:Armed Robbery|4:Armed Robbery',\n",
       "       '1:Neighbor',\n",
       "       '1::Armed Robbery||2::Armed Robbery||3::Armed Robbery',\n",
       "       '1::Gang vs Gang||2::Gang vs Gang', '0::Armed Robbery',\n",
       "       '1::Armed Robbery||3::Armed Robbery',\n",
       "       '1::Friends||2::Friends||3::Friends',\n",
       "       '4::Gang vs Gang||5::Gang vs Gang||6::Gang vs Gang',\n",
       "       '1::Home Invasion - Perp Knows Victim||2::Home Invasion - Perp Does Not Know Victim',\n",
       "       '1::Armed Robbery||2::Armed Robbery||3::Armed Robbery||4::Armed Robbery||5::Armed Robbery',\n",
       "       '1::Gang vs Gang', '2::Friends||3::Friends',\n",
       "       '3::Armed Robbery||4::Armed Robbery||5::Armed Robbery',\n",
       "       '0::Armed Robbery||1::Armed Robbery||2::Armed Robbery||3::Armed Robbery',\n",
       "       '2::Armed Robbery||3::Armed Robbery||4::Armed Robbery',\n",
       "       '7::Home Invasion - Perp Knows Victim',\n",
       "       '1::Home Invasion - Perp Does Not Know Victim',\n",
       "       '0::Armed Robbery||1::Armed Robbery||2::Armed Robbery',\n",
       "       '1::Home Invasion - Perp Knows Victim||2::Home Invasion - Perp Knows Victim||3::Home Invasion - Perp Knows Victim',\n",
       "       '1::Gang vs Gang||2::Gang vs Gang||3::Gang vs Gang||4::Gang vs Gang',\n",
       "       '4::Aquaintance', '2::Armed Robbery||3::Armed Robbery',\n",
       "       '1::Significant others - current or former||2::Aquaintance',\n",
       "       '0::Drive by - Random victims',\n",
       "       '2::Home Invasion - Perp Knows Victim||3::Home Invasion - Perp Knows Victim||4::Home Invasion - Perp Knows Victim',\n",
       "       '2::Gang vs Gang', '1::Family||2::Family',\n",
       "       '1::Home Invasion - Perp Does Not Know Victim||2::Home Invasion - Perp Does Not Know Victim||3::Home Invasion - Perp Does Not Know Victim||4::Home Invasion - Perp Does Not Know Victim',\n",
       "       '6::Family',\n",
       "       '2::Home Invasion - Perp Does Not Know Victim||3::Home Invasion - Perp Does Not Know Victim||4::Home Invasion - Perp Does Not Know Victim||5::Home Invasion - Perp Does Not Know Victim',\n",
       "       '1::Drive by - Random victims',\n",
       "       '1::Home Invasion - Perp Knows Victim||2::Home Invasion - Perp Knows Victim',\n",
       "       '2::Home Invasion - Perp Knows Victim||3::Home Invasion - Perp Knows Victim',\n",
       "       '0::Home Invasion - Perp Does Not Know Victim',\n",
       "       '1::Home Invasion - Perp Does Not Know Victim||2::Home Invasion - Perp Does Not Know Victim',\n",
       "       '2::Armed Robbery', '0::Home Invasion - Perp Knows Victim',\n",
       "       '4::Armed Robbery||5::Armed Robbery||6::Armed Robbery',\n",
       "       '1::Gang vs Gang||2::Gang vs Gang||3::Gang vs Gang',\n",
       "       '2::Home Invasion - Perp Knows Victim', '3::Armed Robbery',\n",
       "       '2::Friends||3::Friends||4::Friends',\n",
       "       '2::Home Invasion - Perp Does Not Know Victim||3::Home Invasion - Perp Does Not Know Victim||4::Home Invasion - Perp Does Not Know Victim',\n",
       "       '2::Family||3::Armed Robbery',\n",
       "       '0::Armed Robbery||2::Armed Robbery||3::Armed Robbery||4::Armed Robbery',\n",
       "       '0::Co-worker',\n",
       "       '4::Gang vs Gang||5::Gang vs Gang||6::Gang vs Gang||7::Gang vs Gang||8::Gang vs Gang||9::Gang vs Gang||10::Gang vs Gang',\n",
       "       '0::Family||1::Family', '7::Family', '0::Friends',\n",
       "       '0::Gang vs Gang||1::Gang vs Gang||2::Gang vs Gang',\n",
       "       '3::Home Invasion - Perp Does Not Know Victim||4::Home Invasion - Perp Does Not Know Victim',\n",
       "       '0::Home Invasion - Perp Knows Victim||1::Home Invasion - Perp Knows Victim||2::Home Invasion - Perp Knows Victim',\n",
       "       '2::Home Invasion - Perp Knows Victim||3::Home Invasion - Perp Knows Victim||4::Home Invasion - Perp Knows Victim||5::Home Invasion - Perp Knows Victim',\n",
       "       '1::Home Invasion - Perp Knows Victim||2::Home Invasion - Perp Knows Victim||3::Home Invasion - Perp Knows Victim||4::Home Invasion - Perp Knows Victim',\n",
       "       '1::Friends||2::Friends',\n",
       "       '0::Home Invasion - Perp Knows Victim||1::Home Invasion - Perp Knows Victim',\n",
       "       '2::Co-worker',\n",
       "       '0::Home Invasion - Perp Does Not Know Victim||1::Home Invasion - Perp Does Not Know Victim',\n",
       "       '0::Gang vs Gang', '4::Mass shooting - Perp Knows Victims',\n",
       "       '2::Gang vs Gang||3::Gang vs Gang||4::Gang vs Gang', '3::Friends',\n",
       "       '2::Drive by - Random victims||3::Drive by - Random victims',\n",
       "       '0::Home Invasion - Perp Does Not Know Victim||1::Home Invasion - Perp Does Not Know Victim||2::Home Invasion - Perp Does Not Know Victim',\n",
       "       '0::Home Invasion - Perp Knows Victim||1::Home Invasion - Perp Does Not Know Victim||2::Home Invasion - Perp Does Not Know Victim',\n",
       "       '0::Home Invasion - Perp Does Not Know Victim||1::Home Invasion - Perp Does Not Know Victim||2::Home Invasion - Perp Does Not Know Victim||3::Home Invasion - Perp Does Not Know Victim',\n",
       "       '0::Home Invasion - Perp Does Not Know Victim||1::Home Invasion - Perp Does Not Know Victim||2::Home Invasion - Perp Does Not Know Victim||3::Home Invasion - Perp Does Not Know Victim||4::Home Invasion - Perp Does Not Know Victim',\n",
       "       '0::Drive by - Random victims||1::Drive by - Random victims||2::Drive by - Random victims',\n",
       "       '0::Home Invasion - Perp Knows Victim||1::Home Invasion - Perp Knows Victim||2::Home Invasion - Perp Knows Victim||3::Home Invasion - Perp Knows Victim',\n",
       "       '2::Drive by - Random victims',\n",
       "       '0::Friends||1::Friends||2::Friends||3::Friends||4::Friends',\n",
       "       '7::Mass shooting - Random victims',\n",
       "       '1::Armed Robbery||3::Armed Robbery||4::Armed Robbery',\n",
       "       '3::Home Invasion - Perp Knows Victim||4::Home Invasion - Perp Knows Victim',\n",
       "       '1::Family||2::Family||3::Family',\n",
       "       '3::Home Invasion - Perp Does Not Know Victim', '3::Neighbor',\n",
       "       '2::Home Invasion - Perp Knows Victim||3::Home Invasion - Perp Does Not Know Victim||4::Home Invasion - Perp Does Not Know Victim||5::Home Invasion - Perp Does Not Know Victim',\n",
       "       '3::Home Invasion - Perp Does Not Know Victim||4::Home Invasion - Perp Does Not Know Victim||5::Home Invasion - Perp Does Not Know Victim',\n",
       "       '0::Home Invasion - Perp Does Not Know Victim||1::Home Invasion - Perp Does Not Know Victim||2::Home Invasion - Perp Does Not Know Victim||3::Home Invasion - Perp Does Not Know Victim||4::Home Invasion - Perp Does Not Know Victim||5::Home Invasion - Perp Does Not Know Victim||6::Home Invasion - Perp Does Not Know Victim||7::Home Invasion - Perp Does Not Know Victim',\n",
       "       '0::Armed Robbery||3::Home Invasion - Perp Knows Victim||4::Home Invasion - Perp Knows Victim||5::Home Invasion - Perp Knows Victim',\n",
       "       '3::Home Invasion - Perp Knows Victim',\n",
       "       '0::Gang vs Gang||1::Gang vs Gang',\n",
       "       '2::Armed Robbery||3::Armed Robbery||4::Armed Robbery||5::Armed Robbery',\n",
       "       '4::Home Invasion - Perp Does Not Know Victim', '0::Neighbor',\n",
       "       '3::Gang vs Gang||4::Gang vs Gang||5::Gang vs Gang||6::Gang vs Gang||7::Gang vs Gang||8::Gang vs Gang||9::Gang vs Gang||10::Gang vs Gang',\n",
       "       '1::Drive by - Random victims||2::Drive by - Random victims',\n",
       "       '1::Drive by - Random victims||2::Drive by - Random victims||3::Drive by - Random victims||4::Drive by - Random victims',\n",
       "       '1::Aquaintance||2::Aquaintance',\n",
       "       '0::Gang vs Gang||1::Gang vs Gang||2::Gang vs Gang||3::Gang vs Gang||4::Gang vs Gang',\n",
       "       '0::Armed Robbery||4::Armed Robbery||5::Armed Robbery',\n",
       "       '0::Friends||1::Friends||2::Friends||3::Friends',\n",
       "       '0::Gang vs Gang||1::Gang vs Gang||2::Gang vs Gang||3::Gang vs Gang||4::Gang vs Gang||5::Gang vs Gang||6::Gang vs Gang||7::Gang vs Gang',\n",
       "       '4::Mass shooting - Perp Knows Victims||5::Mass shooting - Perp Knows Victims||6::Mass shooting - Perp Knows Victims',\n",
       "       '4::Mass shooting - Random victims||5::Mass shooting - Random victims',\n",
       "       '1::Co-worker', '2::Gang vs Gang||3::Gang vs Gang',\n",
       "       '2::Home Invasion - Perp Does Not Know Victim',\n",
       "       '2::Home Invasion - Perp Does Not Know Victim||3::Home Invasion - Perp Does Not Know Victim||4::Home Invasion - Perp Does Not Know Victim||5::Gang vs Gang',\n",
       "       '0::Armed Robbery||1::Armed Robbery||4::Armed Robbery',\n",
       "       '1::Armed Robbery||2::Armed Robbery||4::Armed Robbery',\n",
       "       '2::Gang vs Gang||3::Gang vs Gang||4::Gang vs Gang||5::Gang vs Gang||6::Gang vs Gang||7::Gang vs Gang||8::Gang vs Gang',\n",
       "       '1::Armed Robbery||2::Armed Robbery||3::Armed Robbery||4::Armed Robbery||5::Armed Robbery||6::Armed Robbery',\n",
       "       '2::Home Invasion - Perp Knows Victim||3::Home Invasion - Perp Knows Victim||4::Home Invasion - Perp Does Not Know Victim||5::Home Invasion - Perp Does Not Know Victim||6::Home Invasion - Perp Does Not Know Victim',\n",
       "       '0::Home Invasion - Perp Does Not Know Victim||1::Home Invasion - Perp Does Not Know Victim||3::Home Invasion - Perp Does Not Know Victim',\n",
       "       '0::Neighbor||1::Neighbor',\n",
       "       '0::Armed Robbery||1::Armed Robbery||2::Armed Robbery||3::Armed Robbery||5::Armed Robbery',\n",
       "       '3::Gang vs Gang||4::Gang vs Gang',\n",
       "       '0::Gang vs Gang||1::Gang vs Gang||2::Gang vs Gang||3::Gang vs Gang',\n",
       "       '3::Armed Robbery||4::Armed Robbery||5::Armed Robbery||6::Armed Robbery||7::Armed Robbery',\n",
       "       '0::Co-worker||1::Co-worker', '3::Gang vs Gang',\n",
       "       '2::Drive by - Random victims||3::Drive by - Random victims||4::Drive by - Random victims',\n",
       "       '1::Drive by - Random victims||2::Drive by - Random victims||3::Drive by - Random victims',\n",
       "       '0::Armed Robbery||1::Armed Robbery||3::Armed Robbery',\n",
       "       '0::Friends||1::Friends', '4::Armed Robbery||5::Armed Robbery',\n",
       "       '2::Gang vs Gang||3::Gang vs Gang||4::Gang vs Gang||5::Gang vs Gang',\n",
       "       '4::Armed Robbery||5::Armed Robbery||6::Armed Robbery||7::Armed Robbery||8::Armed Robbery||9::Armed Robbery||10::Armed Robbery||11::Armed Robbery',\n",
       "       '2::Significant others - current or former||3::Family',\n",
       "       '3::Family||4::Friends',\n",
       "       '0::Significant others - current or former||1::Significant others - current or former',\n",
       "       '1::Armed Robbery||2::Armed Robbery||3::Armed Robbery||4::Armed Robbery||5::Armed Robbery||6::Armed Robbery||8::Armed Robbery||9::Armed Robbery||10::Armed Robbery',\n",
       "       '0::Armed Robbery||2::Armed Robbery||3::Armed Robbery',\n",
       "       '0::Armed Robbery||1::Armed Robbery||2::Armed Robbery||3::Armed Robbery||4::Armed Robbery',\n",
       "       '8::Family', '0::Family||1::Home Invasion - Perp Knows Victim',\n",
       "       '1::Armed Robbery||3::Armed Robbery||4::Armed Robbery||5::Armed Robbery',\n",
       "       '4::Home Invasion - Perp Knows Victim||5::Home Invasion - Perp Knows Victim',\n",
       "       '0::Aquaintance', '3::Neighbor||4::Neighbor',\n",
       "       '1::Gang vs Gang||2::Gang vs Gang||3::Gang vs Gang||4::Gang vs Gang||5::Gang vs Gang',\n",
       "       '0::Armed Robbery||2::Armed Robbery',\n",
       "       '1::Co-worker||2::Co-worker||3::Co-worker',\n",
       "       '2::Home Invasion - Perp Does Not Know Victim||4::Home Invasion - Perp Does Not Know Victim',\n",
       "       '2::Gang vs Gang||3::Gang vs Gang||4::Gang vs Gang||5::Gang vs Gang||6::Gang vs Gang',\n",
       "       '1::Home Invasion - Perp Does Not Know Victim||2::Home Invasion - Perp Does Not Know Victim||3::Home Invasion - Perp Does Not Know Victim||4::Home Invasion - Perp Does Not Know Victim||5::Home Invasion - Perp Does Not Know Victim',\n",
       "       '1::Aquaintance||2::Aquaintance||3::Aquaintance||4::Aquaintance',\n",
       "       '0::Friends||1::Friends||2::Friends',\n",
       "       '2::Armed Robbery||3::Armed Robbery||4::Armed Robbery||5::Armed Robbery||6::Armed Robbery',\n",
       "       '2::Armed Robbery||4::Armed Robbery||5::Armed Robbery',\n",
       "       '1::Armed Robbery||2::Significant others - current or former||3::Armed Robbery',\n",
       "       '0::Home Invasion - Perp Does Not Know Victim||1::Home Invasion - Perp Does Not Know Victim||3::Home Invasion - Perp Does Not Know Victim||4::Home Invasion - Perp Does Not Know Victim||5::Home Invasion - Perp Does Not Know Victim',\n",
       "       '1::Neighbor||2::Neighbor', '2::Friends||3::Family',\n",
       "       '0::Armed Robbery||3::Armed Robbery',\n",
       "       '12::Gang vs Gang||13::Gang vs Gang||14::Gang vs Gang||15::Gang vs Gang||16::Gang vs Gang',\n",
       "       '4::Home Invasion - Perp Does Not Know Victim||5::Home Invasion - Perp Does Not Know Victim||6::Home Invasion - Perp Does Not Know Victim',\n",
       "       '5::Armed Robbery',\n",
       "       '3::Gang vs Gang||4::Gang vs Gang||5::Gang vs Gang||6::Gang vs Gang',\n",
       "       '1::Significant others - current or former||2::Significant others - current or former',\n",
       "       '2::Neighbor||3::Neighbor', '3::Co-worker',\n",
       "       '0::Home Invasion - Perp Knows Victim||1::Home Invasion - Perp Knows Victim||2::Home Invasion - Perp Knows Victim||3::Home Invasion - Perp Knows Victim||4::Home Invasion - Perp Knows Victim||5::Home Invasion - Perp Knows Victim',\n",
       "       '3::Family||4::Family||5::Family',\n",
       "       '5::Mass shooting - Perp Knows Victims||6::Mass shooting - Perp Knows Victims',\n",
       "       '6::Aquaintance||7::Aquaintance',\n",
       "       '0::Home Invasion - Perp Does Not Know Victim||2::Home Invasion - Perp Does Not Know Victim',\n",
       "       '1::Friends||2::Aquaintance', '1::Family||2::Friends||3::Family',\n",
       "       '1::Aquaintance||2::Aquaintance||3::Aquaintance',\n",
       "       '3::Armed Robbery||4::Armed Robbery||5::Mass shooting - Perp Knows Victims',\n",
       "       '1::Aquaintance||2::Armed Robbery||3::Armed Robbery||4::Armed Robbery',\n",
       "       '3::Significant others - current or former||4::Friends',\n",
       "       '2::Aquaintance||3::Aquaintance', '1::Friends||2::Neighbor',\n",
       "       '1::Home Invasion - Perp Does Not Know Victim||2::Home Invasion - Perp Does Not Know Victim||3::Home Invasion - Perp Does Not Know Victim||4::Home Invasion - Perp Does Not Know Victim||5::Home Invasion - Perp Does Not Know Victim||6::Home Invasion - Perp Does Not Know Victim',\n",
       "       '1::Significant others - current or former||2::Gang vs Gang',\n",
       "       '0::Neighbor||1::Neighbor||2::Neighbor',\n",
       "       '0::Aquaintance||1::Aquaintance',\n",
       "       '2::Armed Robbery||3::Armed Robbery||4::Armed Robbery||5::Armed Robbery||6::Armed Robbery||7::Armed Robbery||8::Armed Robbery||9::Armed Robbery',\n",
       "       '1::Armed Robbery||2::Armed Robbery||3::Friends',\n",
       "       '2::Home Invasion - Perp Does Not Know Victim||3::Home Invasion - Perp Does Not Know Victim||4::Home Invasion - Perp Does Not Know Victim||5::Home Invasion - Perp Does Not Know Victim||6::Home Invasion - Perp Does Not Know Victim',\n",
       "       '1::Aquaintance||2::Aquaintance||3::Family',\n",
       "       '3::Gang vs Gang||4::Gang vs Gang||5::Gang vs Gang',\n",
       "       '6::Armed Robbery||7::Armed Robbery',\n",
       "       '1::Significant others - current or former||2::Friends',\n",
       "       '8::Home Invasion - Perp Does Not Know Victim||9::Home Invasion - Perp Does Not Know Victim||10::Home Invasion - Perp Does Not Know Victim||11::Home Invasion - Perp Does Not Know Victim',\n",
       "       '1::Armed Robbery||2::Aquaintance',\n",
       "       '2::Home Invasion - Perp Does Not Know Victim||3::Home Invasion - Perp Does Not Know Victim||4::Home Invasion - Perp Does Not Know Victim||5::Home Invasion - Perp Does Not Know Victim||6::Home Invasion - Perp Does Not Know Victim||7::Home Invasion - Perp Does Not Know Victim||8::Home Invasion - Perp Does Not Know Victim',\n",
       "       '2::Armed Robbery||3::Armed Robbery||4::Armed Robbery||5::Armed Robbery||6::Armed Robbery||7::Armed Robbery',\n",
       "       '5::Aquaintance', '1::Friends||2::Friends||3::Friends||4::Friends',\n",
       "       '1::Significant others - current or former||2::Family',\n",
       "       '0::Aquaintance||1::Aquaintance||2::Aquaintance',\n",
       "       '3::Home Invasion - Perp Does Not Know Victim||4::Home Invasion - Perp Does Not Know Victim||5::Home Invasion - Perp Does Not Know Victim||6::Home Invasion - Perp Does Not Know Victim',\n",
       "       '1::Armed Robbery||2::Mass shooting - Random victims',\n",
       "       '0::Home Invasion - Perp Does Not Know Victim||5::Home Invasion - Perp Does Not Know Victim',\n",
       "       '1::Home Invasion - Perp Knows Victim||2::Home Invasion - Perp Knows Victim||3::Home Invasion - Perp Knows Victim||4::Home Invasion - Perp Knows Victim||5::Home Invasion - Perp Knows Victim',\n",
       "       '4::Gang vs Gang||5::Gang vs Gang||6::Gang vs Gang||7::Gang vs Gang||8::Gang vs Gang',\n",
       "       '1::Mass shooting - Perp Knows Victims||2::Home Invasion - Perp Does Not Know Victim||3::Home Invasion - Perp Does Not Know Victim',\n",
       "       '11::Mass shooting - Random victims',\n",
       "       '2::Home Invasion - Perp Knows Victim||3::Home Invasion - Perp Knows Victim||4::Home Invasion - Perp Knows Victim||5::Home Invasion - Perp Knows Victim||6::Home Invasion - Perp Knows Victim||7::Home Invasion - Perp Knows Victim',\n",
       "       '1::Friends||2::Significant others - current or former',\n",
       "       '0::Significant others - current or former||1::Home Invasion - Perp Does Not Know Victim||2::Home Invasion - Perp Does Not Know Victim||3::Home Invasion - Perp Does Not Know Victim',\n",
       "       '1::Armed Robbery||2::Significant others - current or former',\n",
       "       '1::Mass shooting - Perp Knows Victims||2::Home Invasion - Perp Knows Victim',\n",
       "       '0::Family||1::Family||2::Family', '0::Family||1::Aquaintance',\n",
       "       '1::Family||2::Friends', '5::Mass shooting - Perp Knows Victims',\n",
       "       '5::Co-worker',\n",
       "       '1::Aquaintance||2::Armed Robbery||3::Armed Robbery',\n",
       "       '0::Neighbor||3::Neighbor',\n",
       "       '0::Home Invasion - Perp Does Not Know Victim||1::Home Invasion - Perp Does Not Know Victim||2::Home Invasion - Perp Does Not Know Victim||3::Home Invasion - Perp Does Not Know Victim||4::Home Invasion - Perp Does Not Know Victim||5::Home Invasion - Perp Does Not Know Victim||6::Home Invasion - Perp Does Not Know Victim',\n",
       "       '1::Significant others - current or former||2::Aquaintance||3::Aquaintance',\n",
       "       '0::Home Invasion - Perp Knows Victim||1::Home Invasion - Perp Knows Victim||2::Home Invasion - Perp Knows Victim||3::Home Invasion - Perp Knows Victim||4::Home Invasion - Perp Knows Victim',\n",
       "       '3::Gang vs Gang||4::Gang vs Gang||5::Gang vs Gang||6::Gang vs Gang||7::Gang vs Gang||8::Gang vs Gang||9::Gang vs Gang',\n",
       "       '0::Gang vs Gang||1::Gang vs Gang||2::Gang vs Gang||3::Gang vs Gang||4::Gang vs Gang||5::Gang vs Gang||6::Gang vs Gang||7::Gang vs Gang||8::Gang vs Gang||9::Gang vs Gang||10::Gang vs Gang||11::Gang vs Gang',\n",
       "       '1::Home Invasion - Perp Knows Victim||2::Home Invasion - Perp Does Not Know Victim||3::Home Invasion - Perp Does Not Know Victim||4::Home Invasion - Perp Does Not Know Victim',\n",
       "       '1::Co-worker||2::Co-worker',\n",
       "       '1::Gang vs Gang||2::Gang vs Gang||3::Gang vs Gang||4::Gang vs Gang||5::Gang vs Gang||6::Gang vs Gang||7::Gang vs Gang||8::Gang vs Gang||9::Gang vs Gang',\n",
       "       '1::Armed Robbery||2::Armed Robbery||3::Armed Robbery||4::Armed Robbery||5::Armed Robbery||6::Armed Robbery||7::Armed Robbery',\n",
       "       '3::Armed Robbery||4::Armed Robbery||5::Armed Robbery||6::Armed Robbery',\n",
       "       '3::Home Invasion - Perp Does Not Know Victim||4::Home Invasion - Perp Does Not Know Victim||5::Home Invasion - Perp Does Not Know Victim||6::Home Invasion - Perp Does Not Know Victim||7::Home Invasion - Perp Does Not Know Victim',\n",
       "       '0::Armed Robbery||1::Mass shooting - Random victims',\n",
       "       '0::Armed Robbery||1::Armed Robbery||2::Armed Robbery||3::Armed Robbery||4::Armed Robbery||5::Armed Robbery||6::Armed Robbery',\n",
       "       '1::Home Invasion - Perp Does Not Know Victim||2::Home Invasion - Perp Does Not Know Victim||3::Home Invasion - Perp Does Not Know Victim||4::Home Invasion - Perp Does Not Know Victim||5::Home Invasion - Perp Does Not Know Victim||6::Home Invasion - Perp Does Not Know Victim||7::Home Invasion - Perp Does Not Know Victim||8::Home Invasion - Perp Does Not Know Victim'],\n",
       "      dtype=object)"
      ]
     },
     "execution_count": 4,
     "metadata": {},
     "output_type": "execute_result"
    }
   ],
   "source": [
    "# Individually check the columns to learn additional information\n",
    "gun_data.participant_relationship.unique()\n",
    "\n",
    "# Conclusion: The relationship column needs to be transformed to be easier to read and understand"
   ]
  },
  {
   "cell_type": "code",
   "execution_count": 5,
   "id": "16978b5f",
   "metadata": {
    "_kg_hide-output": true,
    "execution": {
     "iopub.execute_input": "2023-08-16T18:45:44.083481Z",
     "iopub.status.busy": "2023-08-16T18:45:44.083139Z",
     "iopub.status.idle": "2023-08-16T18:45:44.090811Z",
     "shell.execute_reply": "2023-08-16T18:45:44.089784Z"
    },
    "papermill": {
     "duration": 0.016931,
     "end_time": "2023-08-16T18:45:44.092528",
     "exception": false,
     "start_time": "2023-08-16T18:45:44.075597",
     "status": "completed"
    },
    "tags": []
   },
   "outputs": [
    {
     "data": {
      "text/plain": [
       "incident_id                   int64\n",
       "date                         object\n",
       "state                        object\n",
       "city_or_county               object\n",
       "n_killed                      int64\n",
       "n_injured                     int64\n",
       "congressional_district      float64\n",
       "incident_characteristics     object\n",
       "location_description         object\n",
       "n_guns_involved             float64\n",
       "notes                        object\n",
       "participant_age_group        object\n",
       "participant_gender           object\n",
       "participant_name             object\n",
       "participant_relationship     object\n",
       "participant_status           object\n",
       "participant_type             object\n",
       "dtype: object"
      ]
     },
     "execution_count": 5,
     "metadata": {},
     "output_type": "execute_result"
    }
   ],
   "source": [
    "#Check the data type of all columns\n",
    "gun_data.dtypes\n",
    "\n",
    "# Conclusion: Most values are object types - use astype() to convert "
   ]
  },
  {
   "cell_type": "markdown",
   "id": "181ace02",
   "metadata": {
    "papermill": {
     "duration": 0.00637,
     "end_time": "2023-08-16T18:45:44.105363",
     "exception": false,
     "start_time": "2023-08-16T18:45:44.098993",
     "status": "completed"
    },
    "tags": []
   },
   "source": [
    "* Now that we have checked the datatypes we see there are mostly object datatypes that need to be transformed to their appropriate datatypes.\n",
    "* In addition there are many NaN values that I'd prefer to set to Unknown - use .fillna('')"
   ]
  },
  {
   "cell_type": "code",
   "execution_count": 6,
   "id": "82624509",
   "metadata": {
    "execution": {
     "iopub.execute_input": "2023-08-16T18:45:44.120230Z",
     "iopub.status.busy": "2023-08-16T18:45:44.119494Z",
     "iopub.status.idle": "2023-08-16T18:45:44.299613Z",
     "shell.execute_reply": "2023-08-16T18:45:44.298618Z"
    },
    "papermill": {
     "duration": 0.18984,
     "end_time": "2023-08-16T18:45:44.301788",
     "exception": false,
     "start_time": "2023-08-16T18:45:44.111948",
     "status": "completed"
    },
    "tags": []
   },
   "outputs": [],
   "source": [
    "# Change the NaN values\n",
    "gun_data['location_description'] = gun_data['location_description'].fillna('Unknown')\n",
    "gun_data['participant_relationship'] = gun_data['participant_relationship'].fillna('Unknown')\n",
    "gun_data['participant_age_group'] = gun_data['participant_age_group'].fillna('Unknown')\n",
    "gun_data['notes'] = gun_data['notes'].fillna('Unknown')\n",
    "gun_data['participant_name'] = gun_data['participant_name'].fillna('Unknown')\n",
    "\n",
    "# When there is a 0 it will stand for unknown\n",
    "gun_data['n_guns_involved'] = gun_data['n_guns_involved'].fillna(0)\n",
    "\n"
   ]
  },
  {
   "cell_type": "code",
   "execution_count": 7,
   "id": "347c2726",
   "metadata": {
    "execution": {
     "iopub.execute_input": "2023-08-16T18:45:44.317323Z",
     "iopub.status.busy": "2023-08-16T18:45:44.316913Z",
     "iopub.status.idle": "2023-08-16T18:45:44.407875Z",
     "shell.execute_reply": "2023-08-16T18:45:44.406680Z"
    },
    "papermill": {
     "duration": 0.101653,
     "end_time": "2023-08-16T18:45:44.410545",
     "exception": false,
     "start_time": "2023-08-16T18:45:44.308892",
     "status": "completed"
    },
    "tags": []
   },
   "outputs": [],
   "source": [
    "gun_data['date'] = pd.to_datetime(gun_data['date'])\n",
    "gun_data.date.describe\n",
    "\n",
    "# We can change multiple column types at once\n",
    "column_data_types = {\n",
    "     'n_killed': 'int',\n",
    "    'n_injured': 'int',\n",
    "    'incident_id': 'int',\n",
    "    'congressional_district': 'float',\n",
    "    'state': 'string',\n",
    "    'city_or_county': 'string',\n",
    "    'notes': 'string',\n",
    "    'location_description': 'string',\n",
    "    'participant_age_group': 'string'\n",
    "}\n",
    "\n",
    "gun_data = gun_data.astype(column_data_types)\n"
   ]
  },
  {
   "cell_type": "code",
   "execution_count": 8,
   "id": "986158be",
   "metadata": {
    "execution": {
     "iopub.execute_input": "2023-08-16T18:45:44.426207Z",
     "iopub.status.busy": "2023-08-16T18:45:44.425867Z",
     "iopub.status.idle": "2023-08-16T18:45:44.435730Z",
     "shell.execute_reply": "2023-08-16T18:45:44.434613Z"
    },
    "papermill": {
     "duration": 0.020408,
     "end_time": "2023-08-16T18:45:44.438192",
     "exception": false,
     "start_time": "2023-08-16T18:45:44.417784",
     "status": "completed"
    },
    "tags": []
   },
   "outputs": [
    {
     "data": {
      "text/plain": [
       "incident_id                          int64\n",
       "date                        datetime64[ns]\n",
       "state                               string\n",
       "city_or_county                      string\n",
       "n_killed                             int64\n",
       "n_injured                            int64\n",
       "congressional_district             float64\n",
       "incident_characteristics            object\n",
       "location_description                string\n",
       "n_guns_involved                    float64\n",
       "notes                               string\n",
       "participant_age_group               string\n",
       "participant_gender                  object\n",
       "participant_name                    object\n",
       "participant_relationship            object\n",
       "participant_status                  object\n",
       "participant_type                    object\n",
       "dtype: object"
      ]
     },
     "execution_count": 8,
     "metadata": {},
     "output_type": "execute_result"
    }
   ],
   "source": [
    "gun_data.dtypes"
   ]
  },
  {
   "cell_type": "markdown",
   "id": "e27916a6",
   "metadata": {
    "papermill": {
     "duration": 0.00666,
     "end_time": "2023-08-16T18:45:44.452110",
     "exception": false,
     "start_time": "2023-08-16T18:45:44.445450",
     "status": "completed"
    },
    "tags": []
   },
   "source": [
    "* Not done yet with the transformations - there are still columns with delimeters such as '::' and '||'\n",
    "* The participant age group column is split into three different groups that I didn't notice until I ran .unique and <br> saw there is 'child', 'teen', and 'adult'"
   ]
  },
  {
   "cell_type": "code",
   "execution_count": 9,
   "id": "a890fd06",
   "metadata": {
    "_kg_hide-output": true,
    "collapsed": true,
    "execution": {
     "iopub.execute_input": "2023-08-16T18:45:44.467469Z",
     "iopub.status.busy": "2023-08-16T18:45:44.467167Z",
     "iopub.status.idle": "2023-08-16T18:45:44.493369Z",
     "shell.execute_reply": "2023-08-16T18:45:44.491760Z"
    },
    "jupyter": {
     "outputs_hidden": true
    },
    "papermill": {
     "duration": 0.036875,
     "end_time": "2023-08-16T18:45:44.496023",
     "exception": false,
     "start_time": "2023-08-16T18:45:44.459148",
     "status": "completed"
    },
    "tags": []
   },
   "outputs": [
    {
     "data": {
      "text/plain": [
       "<StringArray>\n",
       "[                                                                                                                                                                                                                                                                                                                                                                                                                                                                                        '0::Adult 18+||1::Adult 18+||2::Adult 18+||3::Adult 18+||4::Adult 18+',\n",
       "                                                                                                                                                                                                                                                                                                                                                                                                                                                                                                       '0::Adult 18+||1::Adult 18+||2::Adult 18+||3::Adult 18+',\n",
       "                                                                                                                                                                                                                                                                                                                                                                                                                                                                                                      '0::Adult 18+||1::Adult 18+||2::Teen 12-17||3::Adult 18+',\n",
       "                                                                                                                                                                                                                                                                                                                                                                                                                                                                           '0::Adult 18+||1::Adult 18+||2::Adult 18+||3::Adult 18+||4::Adult 18+||5::Adult 18+',\n",
       "                                                                                                                                                                                                                                                                                                                                                                                                                                                                       '0::Adult 18+||1::Adult 18+||2::Child 0-11||3::Child 0-11||4::Child 0-11||5::Teen 12-17',\n",
       "                                                                                                                                                                                                                                                                                                                                                                                                                                                                                                                                                      'Unknown',\n",
       "                                                                                                                                                                                                                                                                                                                                                                                                                                                                                                    '0::Teen 12-17||1::Teen 12-17||2::Teen 12-17||4::Adult 18+',\n",
       "                                                                                                                                                                                                                                                                                                                                                                                                                                                            '0::Teen 12-17||1::Adult 18+||2::Adult 18+||3::Adult 18+||4::Adult 18+||5::Adult 18+||6::Adult 18+',\n",
       "                                                                                                                                                                                                                                                                                                                                                                                                                                                                                                                                                 '0::Adult 18+',\n",
       "                                                                                                                                                                                                                                                                                                                                                                                                                                                                                         '0::Adult 18+||1::Adult 18+||2::Adult 18+||4::Adult 18+||5::Adult 18+',\n",
       " ...\n",
       "                                                                                                                                                                                                                                                                                                                                                                                                                                                                      '0::Teen 12-17||1::Teen 12-17||2::Adult 18+||3::Teen 12-17||4::Teen 12-17||5::Teen 12-17',\n",
       "                                                                                                                                                                                                                                                                                                                                                                                                                                                                                                                  '0::Child 0-11||2::Teen 12-17||3::Teen 12-17',\n",
       "                                                                                                                                                                                                                                                                                                                                                                                                                                                                                    '0::Teen 12-17||1::Teen 12-17||2::Child 0-11||3::Teen 12-17||4::Teen 12-17',\n",
       " '0::Adult 18+||1::Teen 12-17||2::Teen 12-17||3::Adult 18+||4::Teen 12-17||5::Teen 12-17||6::Adult 18+||7::Teen 12-17||8::Teen 12-17||9::Teen 12-17||10::Teen 12-17||11::Teen 12-17||12::Teen 12-17||13::Teen 12-17||14::Adult 18+||15::Teen 12-17||16::Teen 12-17||17::Adult 18+||18::Teen 12-17||19::Teen 12-17||20::Teen 12-17||21::Teen 12-17||22::Teen 12-17||23::Adult 18+||24::Teen 12-17||25::Teen 12-17||26::Teen 12-17||27::Teen 12-17||28::Teen 12-17||29::Teen 12-17||30::Teen 12-17||31::Teen 12-17||32::Teen 12-17||33::Adult 18+||34::Adult 18+',\n",
       "                                                                                                                                                                                                                                                                                                                                                                                                                                                                                                     '0::Child 0-11||1::Adult 18+||2::Teen 12-17||3::Adult 18+',\n",
       "                                                                                                                                                                                                                                                                                         '0::Adult 18+||1::Adult 18+||2::Adult 18+||5::Adult 18+||6::Adult 18+||7::Adult 18+||8::Adult 18+||9::Adult 18+||10::Adult 18+||11::Adult 18+||12::Adult 18+||13::Adult 18+||14::Adult 18+||16::Adult 18+||17::Adult 18+||18::Adult 18+||19::Adult 18+||20::Adult 18+',\n",
       "                                                                         '0::Adult 18+||1::Adult 18+||2::Adult 18+||3::Adult 18+||4::Adult 18+||5::Adult 18+||6::Adult 18+||7::Adult 18+||8::Adult 18+||9::Adult 18+||10::Adult 18+||11::Adult 18+||12::Adult 18+||13::Adult 18+||14::Adult 18+||15::Adult 18+||16::Adult 18+||17::Adult 18+||18::Adult 18+||19::Adult 18+||20::Adult 18+||21::Adult 18+||22::Adult 18+||23::Adult 18+||24::Adult 18+||25::Adult 18+||26::Adult 18+||27::Adult 18+||28::Adult 18+||29::Adult 18+||30::Adult 18+||31::Adult 18+',\n",
       "                                                                                                                                                                                                                                                                                                                                                                                                                                                                                                                    '2::Adult 18+||3::Adult 18+||4::Teen 12-17',\n",
       "                                                                                                                                                                                                                                                                                                                                                                                                                                                                                                                                  '0::Teen 12-17||5::Adult 18+',\n",
       "                                                                                                                                                                                                                                                                                                                                                                                                                                                                                      '3::Adult 18+||4::Teen 12-17||5::Teen 12-17||6::Adult 18+||7::Teen 12-17']\n",
       "Length: 899, dtype: string"
      ]
     },
     "execution_count": 9,
     "metadata": {},
     "output_type": "execute_result"
    }
   ],
   "source": [
    "# Figured out that there are three categories not solely adult and teen\n",
    "gun_data.participant_age_group.unique()"
   ]
  },
  {
   "cell_type": "code",
   "execution_count": 10,
   "id": "ac103852",
   "metadata": {
    "execution": {
     "iopub.execute_input": "2023-08-16T18:45:44.512126Z",
     "iopub.status.busy": "2023-08-16T18:45:44.511799Z",
     "iopub.status.idle": "2023-08-16T18:45:44.531579Z",
     "shell.execute_reply": "2023-08-16T18:45:44.530876Z"
    },
    "papermill": {
     "duration": 0.03022,
     "end_time": "2023-08-16T18:45:44.533529",
     "exception": false,
     "start_time": "2023-08-16T18:45:44.503309",
     "status": "completed"
    },
    "tags": []
   },
   "outputs": [
    {
     "data": {
      "text/html": [
       "<div>\n",
       "<style scoped>\n",
       "    .dataframe tbody tr th:only-of-type {\n",
       "        vertical-align: middle;\n",
       "    }\n",
       "\n",
       "    .dataframe tbody tr th {\n",
       "        vertical-align: top;\n",
       "    }\n",
       "\n",
       "    .dataframe thead th {\n",
       "        text-align: right;\n",
       "    }\n",
       "</style>\n",
       "<table border=\"1\" class=\"dataframe\">\n",
       "  <thead>\n",
       "    <tr style=\"text-align: right;\">\n",
       "      <th></th>\n",
       "      <th>incident_id</th>\n",
       "      <th>date</th>\n",
       "      <th>state</th>\n",
       "      <th>city_or_county</th>\n",
       "      <th>n_killed</th>\n",
       "      <th>n_injured</th>\n",
       "      <th>congressional_district</th>\n",
       "      <th>incident_characteristics</th>\n",
       "      <th>location_description</th>\n",
       "      <th>n_guns_involved</th>\n",
       "      <th>notes</th>\n",
       "      <th>participant_age_group</th>\n",
       "      <th>participant_gender</th>\n",
       "      <th>participant_name</th>\n",
       "      <th>participant_relationship</th>\n",
       "      <th>participant_status</th>\n",
       "      <th>participant_type</th>\n",
       "    </tr>\n",
       "  </thead>\n",
       "  <tbody>\n",
       "    <tr>\n",
       "      <th>0</th>\n",
       "      <td>461105</td>\n",
       "      <td>2013-01-01</td>\n",
       "      <td>Pennsylvania</td>\n",
       "      <td>Mckeesport</td>\n",
       "      <td>0</td>\n",
       "      <td>4</td>\n",
       "      <td>14.0</td>\n",
       "      <td>Shot - Wounded/Injured||Mass Shooting (4+ vict...</td>\n",
       "      <td>Unknown</td>\n",
       "      <td>0.0</td>\n",
       "      <td>Julian Sims under investigation: Four Shot and...</td>\n",
       "      <td>0::Adult 18+||1::Adult 18+||2::Adult 18+||3::A...</td>\n",
       "      <td>0::Male||1::Male||3::Male||4::Female</td>\n",
       "      <td>0::Julian Sims</td>\n",
       "      <td>Unknown</td>\n",
       "      <td>0::Arrested||1::Injured||2::Injured||3::Injure...</td>\n",
       "      <td>0::Victim||1::Victim||2::Victim||3::Victim||4:...</td>\n",
       "    </tr>\n",
       "    <tr>\n",
       "      <th>1</th>\n",
       "      <td>460726</td>\n",
       "      <td>2013-01-01</td>\n",
       "      <td>California</td>\n",
       "      <td>Hawthorne</td>\n",
       "      <td>1</td>\n",
       "      <td>3</td>\n",
       "      <td>43.0</td>\n",
       "      <td>Shot - Wounded/Injured||Shot - Dead (murder, a...</td>\n",
       "      <td>Unknown</td>\n",
       "      <td>0.0</td>\n",
       "      <td>Four Shot; One Killed; Unidentified shooter in...</td>\n",
       "      <td>0::Adult 18+||1::Adult 18+||2::Adult 18+||3::A...</td>\n",
       "      <td>0::Male</td>\n",
       "      <td>0::Bernard Gillis</td>\n",
       "      <td>Unknown</td>\n",
       "      <td>0::Killed||1::Injured||2::Injured||3::Injured</td>\n",
       "      <td>0::Victim||1::Victim||2::Victim||3::Victim||4:...</td>\n",
       "    </tr>\n",
       "    <tr>\n",
       "      <th>2</th>\n",
       "      <td>478855</td>\n",
       "      <td>2013-01-01</td>\n",
       "      <td>Ohio</td>\n",
       "      <td>Lorain</td>\n",
       "      <td>1</td>\n",
       "      <td>3</td>\n",
       "      <td>9.0</td>\n",
       "      <td>Shot - Wounded/Injured||Shot - Dead (murder, a...</td>\n",
       "      <td>Cotton Club</td>\n",
       "      <td>2.0</td>\n",
       "      <td>Unknown</td>\n",
       "      <td>0::Adult 18+||1::Adult 18+||2::Adult 18+||3::A...</td>\n",
       "      <td>0::Male||1::Male||2::Male||3::Male||4::Male</td>\n",
       "      <td>0::Damien Bell||1::Desmen Noble||2::Herman Sea...</td>\n",
       "      <td>Unknown</td>\n",
       "      <td>0::Injured, Unharmed, Arrested||1::Unharmed, A...</td>\n",
       "      <td>0::Subject-Suspect||1::Subject-Suspect||2::Vic...</td>\n",
       "    </tr>\n",
       "  </tbody>\n",
       "</table>\n",
       "</div>"
      ],
      "text/plain": [
       "   incident_id       date         state city_or_county  n_killed  n_injured  \\\n",
       "0       461105 2013-01-01  Pennsylvania     Mckeesport         0          4   \n",
       "1       460726 2013-01-01    California      Hawthorne         1          3   \n",
       "2       478855 2013-01-01          Ohio         Lorain         1          3   \n",
       "\n",
       "   congressional_district                           incident_characteristics  \\\n",
       "0                    14.0  Shot - Wounded/Injured||Mass Shooting (4+ vict...   \n",
       "1                    43.0  Shot - Wounded/Injured||Shot - Dead (murder, a...   \n",
       "2                     9.0  Shot - Wounded/Injured||Shot - Dead (murder, a...   \n",
       "\n",
       "  location_description  n_guns_involved  \\\n",
       "0              Unknown              0.0   \n",
       "1              Unknown              0.0   \n",
       "2          Cotton Club              2.0   \n",
       "\n",
       "                                               notes  \\\n",
       "0  Julian Sims under investigation: Four Shot and...   \n",
       "1  Four Shot; One Killed; Unidentified shooter in...   \n",
       "2                                            Unknown   \n",
       "\n",
       "                               participant_age_group  \\\n",
       "0  0::Adult 18+||1::Adult 18+||2::Adult 18+||3::A...   \n",
       "1  0::Adult 18+||1::Adult 18+||2::Adult 18+||3::A...   \n",
       "2  0::Adult 18+||1::Adult 18+||2::Adult 18+||3::A...   \n",
       "\n",
       "                            participant_gender  \\\n",
       "0         0::Male||1::Male||3::Male||4::Female   \n",
       "1                                      0::Male   \n",
       "2  0::Male||1::Male||2::Male||3::Male||4::Male   \n",
       "\n",
       "                                    participant_name participant_relationship  \\\n",
       "0                                     0::Julian Sims                  Unknown   \n",
       "1                                  0::Bernard Gillis                  Unknown   \n",
       "2  0::Damien Bell||1::Desmen Noble||2::Herman Sea...                  Unknown   \n",
       "\n",
       "                                  participant_status  \\\n",
       "0  0::Arrested||1::Injured||2::Injured||3::Injure...   \n",
       "1      0::Killed||1::Injured||2::Injured||3::Injured   \n",
       "2  0::Injured, Unharmed, Arrested||1::Unharmed, A...   \n",
       "\n",
       "                                    participant_type  \n",
       "0  0::Victim||1::Victim||2::Victim||3::Victim||4:...  \n",
       "1  0::Victim||1::Victim||2::Victim||3::Victim||4:...  \n",
       "2  0::Subject-Suspect||1::Subject-Suspect||2::Vic...  "
      ]
     },
     "execution_count": 10,
     "metadata": {},
     "output_type": "execute_result"
    }
   ],
   "source": [
    "#Group by state, age, date\n",
    "gun_data.head(3)\n",
    "#gun_data.groupby(gun_data.state)"
   ]
  },
  {
   "cell_type": "markdown",
   "id": "33b736fc",
   "metadata": {
    "papermill": {
     "duration": 0.006906,
     "end_time": "2023-08-16T18:45:44.547971",
     "exception": false,
     "start_time": "2023-08-16T18:45:44.541065",
     "status": "completed"
    },
    "tags": []
   },
   "source": [
    "* The following cells include loops to split the delimiters and create new columns"
   ]
  },
  {
   "cell_type": "code",
   "execution_count": 11,
   "id": "aebf2f7f",
   "metadata": {
    "execution": {
     "iopub.execute_input": "2023-08-16T18:45:44.563742Z",
     "iopub.status.busy": "2023-08-16T18:45:44.563339Z",
     "iopub.status.idle": "2023-08-16T18:46:14.657832Z",
     "shell.execute_reply": "2023-08-16T18:46:14.656629Z"
    },
    "papermill": {
     "duration": 30.104942,
     "end_time": "2023-08-16T18:46:14.660110",
     "exception": false,
     "start_time": "2023-08-16T18:45:44.555168",
     "status": "completed"
    },
    "tags": []
   },
   "outputs": [],
   "source": [
    "# Participant Age Group\n",
    "# Initialize new columns for counts\n",
    "\n",
    "gun_data['adults_count'] = 0\n",
    "gun_data['minors_count'] = 0\n",
    "\n",
    "# Iterate through each row in gun_data\n",
    "for index, row in gun_data.iterrows():\n",
    "    participant_age_group = row['participant_age_group']\n",
    "    \n",
    "    # Skip missing values (NaN)\n",
    "    if pd.notna(participant_age_group):\n",
    "        age_groups = participant_age_group.split('||')\n",
    "        for age_group in age_groups:\n",
    "            idx_age = age_group.split('::')\n",
    "            if len(idx_age) == 2:  # Check if valid index and age_category\n",
    "                idx, age_category = idx_age\n",
    "                if age_category == 'Adult 18+':\n",
    "                    gun_data.at[index, 'adults_count'] += 1\n",
    "                elif age_category.startswith('Child') or age_category.startswith('Teen'):\n",
    "                    gun_data.at[index, 'minors_count'] += 1"
   ]
  },
  {
   "cell_type": "code",
   "execution_count": 12,
   "id": "b78eeac5",
   "metadata": {
    "execution": {
     "iopub.execute_input": "2023-08-16T18:46:14.676227Z",
     "iopub.status.busy": "2023-08-16T18:46:14.675911Z",
     "iopub.status.idle": "2023-08-16T18:46:44.413034Z",
     "shell.execute_reply": "2023-08-16T18:46:44.411200Z"
    },
    "papermill": {
     "duration": 29.747592,
     "end_time": "2023-08-16T18:46:44.415161",
     "exception": false,
     "start_time": "2023-08-16T18:46:14.667569",
     "status": "completed"
    },
    "tags": []
   },
   "outputs": [],
   "source": [
    "# Participant Age Group\n",
    "# Initialize new columns for counts\n",
    "\n",
    "gun_data['adults_count'] = 0\n",
    "gun_data['minors_count'] = 0\n",
    "\n",
    "# Iterate through each row in gun_data\n",
    "for index, row in gun_data.iterrows():\n",
    "    participant_age_group = row['participant_age_group']\n",
    "    \n",
    "    # Skip missing values (NaN)\n",
    "    if pd.notna(participant_age_group):\n",
    "        age_groups = participant_age_group.split('||')\n",
    "        for age_group in age_groups:\n",
    "            idx_age = age_group.split('::')\n",
    "            if len(idx_age) == 2:  # Check if valid index and age_category\n",
    "                idx, age_category = idx_age\n",
    "                if age_category == 'Adult 18+':\n",
    "                    gun_data.at[index, 'adults_count'] += 1\n",
    "                elif age_category.startswith('Child') or age_category.startswith('Teen'):\n",
    "                    gun_data.at[index, 'minors_count'] += 1\n"
   ]
  },
  {
   "cell_type": "code",
   "execution_count": 13,
   "id": "79d8f261",
   "metadata": {
    "execution": {
     "iopub.execute_input": "2023-08-16T18:46:44.431102Z",
     "iopub.status.busy": "2023-08-16T18:46:44.430794Z",
     "iopub.status.idle": "2023-08-16T18:46:44.439401Z",
     "shell.execute_reply": "2023-08-16T18:46:44.438075Z"
    },
    "papermill": {
     "duration": 0.018925,
     "end_time": "2023-08-16T18:46:44.441451",
     "exception": false,
     "start_time": "2023-08-16T18:46:44.422526",
     "status": "completed"
    },
    "tags": []
   },
   "outputs": [
    {
     "data": {
      "text/plain": [
       "0             0::Victim||1::Victim||2::Victim||3::Victim||4::Subject-Suspect\n",
       "1             0::Victim||1::Victim||2::Victim||3::Victim||4::Subject-Suspect\n",
       "2    0::Subject-Suspect||1::Subject-Suspect||2::Victim||3::Victim||4::Victim\n",
       "3                        0::Victim||1::Victim||2::Victim||3::Subject-Suspect\n",
       "4                        0::Victim||1::Victim||2::Victim||3::Subject-Suspect\n",
       "Name: participant_type, dtype: object"
      ]
     },
     "execution_count": 13,
     "metadata": {},
     "output_type": "execute_result"
    }
   ],
   "source": [
    "pd.set_option('max_colwidth', None)\n",
    "\n",
    "gun_data.participant_type.head()"
   ]
  },
  {
   "cell_type": "code",
   "execution_count": 14,
   "id": "d6fd5f01",
   "metadata": {
    "execution": {
     "iopub.execute_input": "2023-08-16T18:46:44.457666Z",
     "iopub.status.busy": "2023-08-16T18:46:44.457328Z",
     "iopub.status.idle": "2023-08-16T18:47:17.072498Z",
     "shell.execute_reply": "2023-08-16T18:47:17.071271Z"
    },
    "jupyter": {
     "source_hidden": true
    },
    "papermill": {
     "duration": 32.625988,
     "end_time": "2023-08-16T18:47:17.074829",
     "exception": false,
     "start_time": "2023-08-16T18:46:44.448841",
     "status": "completed"
    },
    "tags": []
   },
   "outputs": [],
   "source": [
    "# Participant Type\n",
    "# Initialize new columns for counts\n",
    "\n",
    "gun_data['victim_count'] = 0\n",
    "gun_data['suspect_count'] = 0\n",
    "\n",
    "# Iterate through each row in gun_data\n",
    "for index, row in gun_data.iterrows():\n",
    "    participant_type = row['participant_type']\n",
    "    \n",
    "    # Skip missing values (NaN)\n",
    "    if pd.notna(participant_type):\n",
    "        age_groups = participant_type.split('||')\n",
    "        for age_group in age_groups:\n",
    "            idx_age = age_group.split('::')\n",
    "            if len(idx_age) == 2:  # Check if valid index and category\n",
    "                idx, age_category = idx_age\n",
    "                if age_category == 'Victim':\n",
    "                    gun_data.at[index, 'victim_count'] += 1\n",
    "                elif age_category.startswith('Subject-Suspect'):\n",
    "                    gun_data.at[index, 'suspect_count'] += 1\n"
   ]
  },
  {
   "cell_type": "code",
   "execution_count": 15,
   "id": "ca6c0d27",
   "metadata": {
    "execution": {
     "iopub.execute_input": "2023-08-16T18:47:17.091259Z",
     "iopub.status.busy": "2023-08-16T18:47:17.090866Z",
     "iopub.status.idle": "2023-08-16T18:47:49.731948Z",
     "shell.execute_reply": "2023-08-16T18:47:49.730876Z"
    },
    "papermill": {
     "duration": 32.651595,
     "end_time": "2023-08-16T18:47:49.734101",
     "exception": false,
     "start_time": "2023-08-16T18:47:17.082506",
     "status": "completed"
    },
    "tags": []
   },
   "outputs": [],
   "source": [
    "# Participant Type\n",
    "# Initialize new columns for counts\n",
    "\n",
    "gun_data['victim_count'] = 0\n",
    "gun_data['suspect_count'] = 0\n",
    "\n",
    "# Iterate through each row in gun_data\n",
    "for index, row in gun_data.iterrows():\n",
    "    participant_type = row['participant_type']\n",
    "    \n",
    "    # Skip missing values (NaN)\n",
    "    if pd.notna(participant_type):\n",
    "        age_groups = participant_type.split('||')\n",
    "        for age_group in age_groups:\n",
    "            idx_age = age_group.split('::')\n",
    "            if len(idx_age) == 2:  # Check if valid index and category\n",
    "                idx, age_category = idx_age\n",
    "                if age_category == 'Victim':\n",
    "                    gun_data.at[index, 'victim_count'] += 1\n",
    "                elif age_category.startswith('Subject-Suspect'):\n",
    "                    gun_data.at[index, 'suspect_count'] += 1\n"
   ]
  },
  {
   "cell_type": "code",
   "execution_count": 16,
   "id": "edc78be4",
   "metadata": {
    "execution": {
     "iopub.execute_input": "2023-08-16T18:47:49.750222Z",
     "iopub.status.busy": "2023-08-16T18:47:49.749916Z",
     "iopub.status.idle": "2023-08-16T18:47:49.780645Z",
     "shell.execute_reply": "2023-08-16T18:47:49.779981Z"
    },
    "jupyter": {
     "source_hidden": true
    },
    "papermill": {
     "duration": 0.040746,
     "end_time": "2023-08-16T18:47:49.782304",
     "exception": false,
     "start_time": "2023-08-16T18:47:49.741558",
     "status": "completed"
    },
    "tags": []
   },
   "outputs": [
    {
     "data": {
      "text/html": [
       "<div>\n",
       "<style scoped>\n",
       "    .dataframe tbody tr th:only-of-type {\n",
       "        vertical-align: middle;\n",
       "    }\n",
       "\n",
       "    .dataframe tbody tr th {\n",
       "        vertical-align: top;\n",
       "    }\n",
       "\n",
       "    .dataframe thead th {\n",
       "        text-align: right;\n",
       "    }\n",
       "</style>\n",
       "<table border=\"1\" class=\"dataframe\">\n",
       "  <thead>\n",
       "    <tr style=\"text-align: right;\">\n",
       "      <th></th>\n",
       "      <th>incident_id</th>\n",
       "      <th>date</th>\n",
       "      <th>state</th>\n",
       "      <th>city_or_county</th>\n",
       "      <th>n_killed</th>\n",
       "      <th>n_injured</th>\n",
       "      <th>congressional_district</th>\n",
       "      <th>incident_characteristics</th>\n",
       "      <th>location_description</th>\n",
       "      <th>n_guns_involved</th>\n",
       "      <th>notes</th>\n",
       "      <th>participant_gender</th>\n",
       "      <th>participant_name</th>\n",
       "      <th>participant_relationship</th>\n",
       "      <th>participant_status</th>\n",
       "      <th>participant_type</th>\n",
       "      <th>adults_count</th>\n",
       "      <th>minors_count</th>\n",
       "      <th>victim_count</th>\n",
       "      <th>suspect_count</th>\n",
       "    </tr>\n",
       "  </thead>\n",
       "  <tbody>\n",
       "    <tr>\n",
       "      <th>0</th>\n",
       "      <td>461105</td>\n",
       "      <td>2013-01-01</td>\n",
       "      <td>Pennsylvania</td>\n",
       "      <td>Mckeesport</td>\n",
       "      <td>0</td>\n",
       "      <td>4</td>\n",
       "      <td>14.0</td>\n",
       "      <td>Shot - Wounded/Injured||Mass Shooting (4+ victims injured or killed excluding the subject/suspect/perpetrator, one location)||Possession (gun(s) found during commission of other crimes)||Possession of gun by felon or prohibited person</td>\n",
       "      <td>Unknown</td>\n",
       "      <td>0.0</td>\n",
       "      <td>Julian Sims under investigation: Four Shot and Injured</td>\n",
       "      <td>0::Male||1::Male||3::Male||4::Female</td>\n",
       "      <td>0::Julian Sims</td>\n",
       "      <td>Unknown</td>\n",
       "      <td>0::Arrested||1::Injured||2::Injured||3::Injured||4::Injured</td>\n",
       "      <td>0::Victim||1::Victim||2::Victim||3::Victim||4::Subject-Suspect</td>\n",
       "      <td>5</td>\n",
       "      <td>0</td>\n",
       "      <td>4</td>\n",
       "      <td>1</td>\n",
       "    </tr>\n",
       "  </tbody>\n",
       "</table>\n",
       "</div>"
      ],
      "text/plain": [
       "   incident_id       date         state city_or_county  n_killed  n_injured  \\\n",
       "0       461105 2013-01-01  Pennsylvania     Mckeesport         0          4   \n",
       "\n",
       "   congressional_district  \\\n",
       "0                    14.0   \n",
       "\n",
       "                                                                                                                                                                                                                     incident_characteristics  \\\n",
       "0  Shot - Wounded/Injured||Mass Shooting (4+ victims injured or killed excluding the subject/suspect/perpetrator, one location)||Possession (gun(s) found during commission of other crimes)||Possession of gun by felon or prohibited person   \n",
       "\n",
       "  location_description  n_guns_involved  \\\n",
       "0              Unknown              0.0   \n",
       "\n",
       "                                                    notes  \\\n",
       "0  Julian Sims under investigation: Four Shot and Injured   \n",
       "\n",
       "                     participant_gender participant_name  \\\n",
       "0  0::Male||1::Male||3::Male||4::Female   0::Julian Sims   \n",
       "\n",
       "  participant_relationship  \\\n",
       "0                  Unknown   \n",
       "\n",
       "                                            participant_status  \\\n",
       "0  0::Arrested||1::Injured||2::Injured||3::Injured||4::Injured   \n",
       "\n",
       "                                                 participant_type  \\\n",
       "0  0::Victim||1::Victim||2::Victim||3::Victim||4::Subject-Suspect   \n",
       "\n",
       "   adults_count  minors_count  victim_count  suspect_count  \n",
       "0             5             0             4              1  "
      ]
     },
     "execution_count": 16,
     "metadata": {},
     "output_type": "execute_result"
    }
   ],
   "source": [
    "#Two columns were derived from participant_age_group, can now drop it\n",
    "gun_data = gun_data.drop(['participant_age_group'], axis=1)\n",
    "\n",
    "# Increase max_colwidth to display more content\n",
    "pd.set_option('max_colwidth', None)\n",
    "\n",
    "# Now when you display the DataFrame, the column values won't be truncated\n",
    "gun_data.head(1)"
   ]
  },
  {
   "cell_type": "code",
   "execution_count": 17,
   "id": "8e18ecb6",
   "metadata": {
    "execution": {
     "iopub.execute_input": "2023-08-16T18:47:49.802105Z",
     "iopub.status.busy": "2023-08-16T18:47:49.801119Z",
     "iopub.status.idle": "2023-08-16T18:47:49.818556Z",
     "shell.execute_reply": "2023-08-16T18:47:49.817631Z"
    },
    "papermill": {
     "duration": 0.028254,
     "end_time": "2023-08-16T18:47:49.820409",
     "exception": false,
     "start_time": "2023-08-16T18:47:49.792155",
     "status": "completed"
    },
    "tags": []
   },
   "outputs": [
    {
     "data": {
      "text/html": [
       "<div>\n",
       "<style scoped>\n",
       "    .dataframe tbody tr th:only-of-type {\n",
       "        vertical-align: middle;\n",
       "    }\n",
       "\n",
       "    .dataframe tbody tr th {\n",
       "        vertical-align: top;\n",
       "    }\n",
       "\n",
       "    .dataframe thead th {\n",
       "        text-align: right;\n",
       "    }\n",
       "</style>\n",
       "<table border=\"1\" class=\"dataframe\">\n",
       "  <thead>\n",
       "    <tr style=\"text-align: right;\">\n",
       "      <th></th>\n",
       "      <th>incident_id</th>\n",
       "      <th>date</th>\n",
       "      <th>state</th>\n",
       "      <th>city_or_county</th>\n",
       "      <th>n_killed</th>\n",
       "      <th>n_injured</th>\n",
       "      <th>congressional_district</th>\n",
       "      <th>incident_characteristics</th>\n",
       "      <th>location_description</th>\n",
       "      <th>n_guns_involved</th>\n",
       "      <th>notes</th>\n",
       "      <th>participant_gender</th>\n",
       "      <th>participant_name</th>\n",
       "      <th>participant_relationship</th>\n",
       "      <th>participant_status</th>\n",
       "      <th>participant_type</th>\n",
       "      <th>adults_count</th>\n",
       "      <th>minors_count</th>\n",
       "      <th>victim_count</th>\n",
       "      <th>suspect_count</th>\n",
       "    </tr>\n",
       "  </thead>\n",
       "  <tbody>\n",
       "    <tr>\n",
       "      <th>0</th>\n",
       "      <td>461105</td>\n",
       "      <td>2013-01-01</td>\n",
       "      <td>Pennsylvania</td>\n",
       "      <td>Mckeesport</td>\n",
       "      <td>0</td>\n",
       "      <td>4</td>\n",
       "      <td>14.0</td>\n",
       "      <td>Shot - Wounded/Injured||Mass Shooting (4+ victims injured or killed excluding the subject/suspect/perpetrator, one location)||Possession (gun(s) found during commission of other crimes)||Possession of gun by felon or prohibited person</td>\n",
       "      <td>Unknown</td>\n",
       "      <td>0.0</td>\n",
       "      <td>Julian Sims under investigation: Four Shot and Injured</td>\n",
       "      <td>0::Male||1::Male||3::Male||4::Female</td>\n",
       "      <td>0::Julian Sims</td>\n",
       "      <td>Unknown</td>\n",
       "      <td>0::Arrested||1::Injured||2::Injured||3::Injured||4::Injured</td>\n",
       "      <td>0::Victim||1::Victim||2::Victim||3::Victim||4::Subject-Suspect</td>\n",
       "      <td>5</td>\n",
       "      <td>0</td>\n",
       "      <td>4</td>\n",
       "      <td>1</td>\n",
       "    </tr>\n",
       "  </tbody>\n",
       "</table>\n",
       "</div>"
      ],
      "text/plain": [
       "   incident_id       date         state city_or_county  n_killed  n_injured  \\\n",
       "0       461105 2013-01-01  Pennsylvania     Mckeesport         0          4   \n",
       "\n",
       "   congressional_district  \\\n",
       "0                    14.0   \n",
       "\n",
       "                                                                                                                                                                                                                     incident_characteristics  \\\n",
       "0  Shot - Wounded/Injured||Mass Shooting (4+ victims injured or killed excluding the subject/suspect/perpetrator, one location)||Possession (gun(s) found during commission of other crimes)||Possession of gun by felon or prohibited person   \n",
       "\n",
       "  location_description  n_guns_involved  \\\n",
       "0              Unknown              0.0   \n",
       "\n",
       "                                                    notes  \\\n",
       "0  Julian Sims under investigation: Four Shot and Injured   \n",
       "\n",
       "                     participant_gender participant_name  \\\n",
       "0  0::Male||1::Male||3::Male||4::Female   0::Julian Sims   \n",
       "\n",
       "  participant_relationship  \\\n",
       "0                  Unknown   \n",
       "\n",
       "                                            participant_status  \\\n",
       "0  0::Arrested||1::Injured||2::Injured||3::Injured||4::Injured   \n",
       "\n",
       "                                                 participant_type  \\\n",
       "0  0::Victim||1::Victim||2::Victim||3::Victim||4::Subject-Suspect   \n",
       "\n",
       "   adults_count  minors_count  victim_count  suspect_count  \n",
       "0             5             0             4              1  "
      ]
     },
     "execution_count": 17,
     "metadata": {},
     "output_type": "execute_result"
    }
   ],
   "source": [
    "gun_data.head(1)     "
   ]
  },
  {
   "cell_type": "code",
   "execution_count": 18,
   "id": "d5d5f70d",
   "metadata": {
    "collapsed": true,
    "execution": {
     "iopub.execute_input": "2023-08-16T18:47:49.837695Z",
     "iopub.status.busy": "2023-08-16T18:47:49.837385Z",
     "iopub.status.idle": "2023-08-16T18:47:49.873543Z",
     "shell.execute_reply": "2023-08-16T18:47:49.872676Z"
    },
    "jupyter": {
     "outputs_hidden": true
    },
    "papermill": {
     "duration": 0.047179,
     "end_time": "2023-08-16T18:47:49.875641",
     "exception": false,
     "start_time": "2023-08-16T18:47:49.828462",
     "status": "completed"
    },
    "tags": []
   },
   "outputs": [
    {
     "data": {
      "text/plain": [
       "state\n",
       "Illinois                17556\n",
       "California              16306\n",
       "Florida                 15029\n",
       "Texas                   13577\n",
       "Ohio                    10244\n",
       "New York                 9712\n",
       "Pennsylvania             8929\n",
       "Georgia                  8925\n",
       "North Carolina           8739\n",
       "Louisiana                8103\n",
       "Tennessee                7626\n",
       "South Carolina           6939\n",
       "Missouri                 6631\n",
       "Michigan                 6136\n",
       "Massachusetts            5981\n",
       "Virginia                 5949\n",
       "Indiana                  5852\n",
       "Maryland                 5798\n",
       "Alabama                  5471\n",
       "New Jersey               5387\n",
       "Wisconsin                4787\n",
       "Kentucky                 4157\n",
       "Mississippi              3599\n",
       "Oklahoma                 3455\n",
       "Washington               3434\n",
       "Colorado                 3201\n",
       "District of Columbia     3195\n",
       "Connecticut              3067\n",
       "Arkansas                 2842\n",
       "Iowa                     2517\n",
       "Minnesota                2408\n",
       "Arizona                  2328\n",
       "Oregon                   2286\n",
       "Kansas                   2145\n",
       "Nevada                   1952\n",
       "Delaware                 1685\n",
       "Nebraska                 1651\n",
       "New Mexico               1645\n",
       "West Virginia            1575\n",
       "Alaska                   1349\n",
       "Utah                     1072\n",
       "New Hampshire             964\n",
       "Maine                     907\n",
       "Rhode Island              895\n",
       "Idaho                     661\n",
       "Montana                   638\n",
       "North Dakota              573\n",
       "South Dakota              544\n",
       "Wyoming                   494\n",
       "Vermont                   472\n",
       "Hawaii                    289\n",
       "Name: n_killed, dtype: int64"
      ]
     },
     "execution_count": 18,
     "metadata": {},
     "output_type": "execute_result"
    }
   ],
   "source": [
    "gun_data.groupby('state')['n_killed'].count().sort_values(ascending=False)\n"
   ]
  },
  {
   "cell_type": "code",
   "execution_count": 19,
   "id": "ae72c0da",
   "metadata": {
    "execution": {
     "iopub.execute_input": "2023-08-16T18:47:49.893304Z",
     "iopub.status.busy": "2023-08-16T18:47:49.892974Z",
     "iopub.status.idle": "2023-08-16T18:47:49.899185Z",
     "shell.execute_reply": "2023-08-16T18:47:49.898495Z"
    },
    "papermill": {
     "duration": 0.017154,
     "end_time": "2023-08-16T18:47:49.900973",
     "exception": false,
     "start_time": "2023-08-16T18:47:49.883819",
     "status": "completed"
    },
    "tags": []
   },
   "outputs": [
    {
     "name": "stdout",
     "output_type": "stream",
     "text": [
      "2018-03-31 00:00:00 2013-01-01 00:00:00\n"
     ]
    }
   ],
   "source": [
    "earliest_date= gun_data['date'].max()\n",
    "latest_date= gun_data['date'].min()\n",
    "print(earliest_date, latest_date)"
   ]
  },
  {
   "cell_type": "code",
   "execution_count": 20,
   "id": "fa301b1a",
   "metadata": {
    "_kg_hide-input": true,
    "execution": {
     "iopub.execute_input": "2023-08-16T18:47:49.919548Z",
     "iopub.status.busy": "2023-08-16T18:47:49.918550Z",
     "iopub.status.idle": "2023-08-16T18:47:53.178944Z",
     "shell.execute_reply": "2023-08-16T18:47:53.178165Z"
    },
    "papermill": {
     "duration": 3.27152,
     "end_time": "2023-08-16T18:47:53.180786",
     "exception": false,
     "start_time": "2023-08-16T18:47:49.909266",
     "status": "completed"
    },
    "tags": []
   },
   "outputs": [
    {
     "name": "stderr",
     "output_type": "stream",
     "text": [
      "/opt/conda/lib/python3.10/site-packages/scipy/__init__.py:146: UserWarning: A NumPy version >=1.16.5 and <1.23.0 is required for this version of SciPy (detected version 1.23.5\n",
      "  warnings.warn(f\"A NumPy version >={np_minversion} and <{np_maxversion}\"\n"
     ]
    },
    {
     "data": {
      "text/html": [
       "        <script type=\"text/javascript\">\n",
       "        window.PlotlyConfig = {MathJaxConfig: 'local'};\n",
       "        if (window.MathJax && window.MathJax.Hub && window.MathJax.Hub.Config) {window.MathJax.Hub.Config({SVG: {font: \"STIX-Web\"}});}\n",
       "        if (typeof require !== 'undefined') {\n",
       "        require.undef(\"plotly\");\n",
       "        requirejs.config({\n",
       "            paths: {\n",
       "                'plotly': ['https://cdn.plot.ly/plotly-2.24.1.min']\n",
       "            }\n",
       "        });\n",
       "        require(['plotly'], function(Plotly) {\n",
       "            window._Plotly = Plotly;\n",
       "        });\n",
       "        }\n",
       "        </script>\n",
       "        "
      ]
     },
     "metadata": {},
     "output_type": "display_data"
    },
    {
     "data": {
      "text/html": [
       "<div>                            <div id=\"7dbd3d14-1f50-42c4-95a0-e75a4aa3abe8\" class=\"plotly-graph-div\" style=\"height:525px; width:100%;\"></div>            <script type=\"text/javascript\">                require([\"plotly\"], function(Plotly) {                    window.PLOTLYENV=window.PLOTLYENV || {};                                    if (document.getElementById(\"7dbd3d14-1f50-42c4-95a0-e75a4aa3abe8\")) {                    Plotly.newPlot(                        \"7dbd3d14-1f50-42c4-95a0-e75a4aa3abe8\",                        [{\"alignmentgroup\":\"True\",\"hovertemplate\":\"variable=n_killed\\u003cbr\\u003eState=%{x}\\u003cbr\\u003eCount=%{y}\\u003cextra\\u003e\\u003c\\u002fextra\\u003e\",\"legendgroup\":\"n_killed\",\"marker\":{\"color\":\"red\",\"pattern\":{\"shape\":\"\"}},\"name\":\"n_killed\",\"offsetgroup\":\"n_killed\",\"orientation\":\"v\",\"showlegend\":true,\"textposition\":\"auto\",\"x\":[\"Alabama\",\"Alaska\",\"Arizona\",\"Arkansas\",\"California\",\"Colorado\",\"Connecticut\",\"Delaware\",\"District of Columbia\",\"Florida\",\"Georgia\",\"Hawaii\",\"Idaho\",\"Illinois\",\"Indiana\",\"Iowa\",\"Kansas\",\"Kentucky\",\"Louisiana\",\"Maine\",\"Maryland\",\"Massachusetts\",\"Michigan\",\"Minnesota\",\"Mississippi\",\"Missouri\",\"Montana\",\"Nebraska\",\"Nevada\",\"New Hampshire\",\"New Jersey\",\"New Mexico\",\"New York\",\"North Carolina\",\"North Dakota\",\"Ohio\",\"Oklahoma\",\"Oregon\",\"Pennsylvania\",\"Rhode Island\",\"South Carolina\",\"South Dakota\",\"Tennessee\",\"Texas\",\"Utah\",\"Vermont\",\"Virginia\",\"Washington\",\"West Virginia\",\"Wisconsin\",\"Wyoming\"],\"xaxis\":\"x\",\"y\":[1880,267,1094,773,5562,796,341,217,459,3909,2456,63,166,3409,1608,273,542,1066,2179,112,1691,472,1588,461,1176,2136,154,225,799,88,1168,495,1705,2225,69,2508,941,446,2395,63,1610,90,1824,5046,282,57,1459,853,335,862,73],\"yaxis\":\"y\",\"type\":\"bar\"},{\"alignmentgroup\":\"True\",\"hovertemplate\":\"variable=n_injured\\u003cbr\\u003eState=%{x}\\u003cbr\\u003eCount=%{y}\\u003cextra\\u003e\\u003c\\u002fextra\\u003e\",\"legendgroup\":\"n_injured\",\"marker\":{\"color\":\"blue\",\"pattern\":{\"shape\":\"\"}},\"name\":\"n_injured\",\"offsetgroup\":\"n_injured\",\"orientation\":\"v\",\"showlegend\":true,\"textposition\":\"auto\",\"x\":[\"Alabama\",\"Alaska\",\"Arizona\",\"Arkansas\",\"California\",\"Colorado\",\"Connecticut\",\"Delaware\",\"District of Columbia\",\"Florida\",\"Georgia\",\"Hawaii\",\"Idaho\",\"Illinois\",\"Indiana\",\"Iowa\",\"Kansas\",\"Kentucky\",\"Louisiana\",\"Maine\",\"Maryland\",\"Massachusetts\",\"Michigan\",\"Minnesota\",\"Mississippi\",\"Missouri\",\"Montana\",\"Nebraska\",\"Nevada\",\"New Hampshire\",\"New Jersey\",\"New Mexico\",\"New York\",\"North Carolina\",\"North Dakota\",\"Ohio\",\"Oklahoma\",\"Oregon\",\"Pennsylvania\",\"Rhode Island\",\"South Carolina\",\"South Dakota\",\"Tennessee\",\"Texas\",\"Utah\",\"Vermont\",\"Virginia\",\"Washington\",\"West Virginia\",\"Wisconsin\",\"Wyoming\"],\"xaxis\":\"x\",\"y\":[2998,325,1096,1347,7644,1133,1258,853,1415,7072,4056,85,149,13514,2956,821,931,1894,4398,132,3167,1701,2990,916,1883,3585,136,674,951,144,2540,543,5059,4629,130,5703,1550,694,5056,346,3084,114,4478,6106,402,73,3566,1287,649,2117,52],\"yaxis\":\"y\",\"type\":\"bar\"}],                        {\"template\":{\"data\":{\"histogram2dcontour\":[{\"type\":\"histogram2dcontour\",\"colorbar\":{\"outlinewidth\":0,\"ticks\":\"\"},\"colorscale\":[[0.0,\"#0d0887\"],[0.1111111111111111,\"#46039f\"],[0.2222222222222222,\"#7201a8\"],[0.3333333333333333,\"#9c179e\"],[0.4444444444444444,\"#bd3786\"],[0.5555555555555556,\"#d8576b\"],[0.6666666666666666,\"#ed7953\"],[0.7777777777777778,\"#fb9f3a\"],[0.8888888888888888,\"#fdca26\"],[1.0,\"#f0f921\"]]}],\"choropleth\":[{\"type\":\"choropleth\",\"colorbar\":{\"outlinewidth\":0,\"ticks\":\"\"}}],\"histogram2d\":[{\"type\":\"histogram2d\",\"colorbar\":{\"outlinewidth\":0,\"ticks\":\"\"},\"colorscale\":[[0.0,\"#0d0887\"],[0.1111111111111111,\"#46039f\"],[0.2222222222222222,\"#7201a8\"],[0.3333333333333333,\"#9c179e\"],[0.4444444444444444,\"#bd3786\"],[0.5555555555555556,\"#d8576b\"],[0.6666666666666666,\"#ed7953\"],[0.7777777777777778,\"#fb9f3a\"],[0.8888888888888888,\"#fdca26\"],[1.0,\"#f0f921\"]]}],\"heatmap\":[{\"type\":\"heatmap\",\"colorbar\":{\"outlinewidth\":0,\"ticks\":\"\"},\"colorscale\":[[0.0,\"#0d0887\"],[0.1111111111111111,\"#46039f\"],[0.2222222222222222,\"#7201a8\"],[0.3333333333333333,\"#9c179e\"],[0.4444444444444444,\"#bd3786\"],[0.5555555555555556,\"#d8576b\"],[0.6666666666666666,\"#ed7953\"],[0.7777777777777778,\"#fb9f3a\"],[0.8888888888888888,\"#fdca26\"],[1.0,\"#f0f921\"]]}],\"heatmapgl\":[{\"type\":\"heatmapgl\",\"colorbar\":{\"outlinewidth\":0,\"ticks\":\"\"},\"colorscale\":[[0.0,\"#0d0887\"],[0.1111111111111111,\"#46039f\"],[0.2222222222222222,\"#7201a8\"],[0.3333333333333333,\"#9c179e\"],[0.4444444444444444,\"#bd3786\"],[0.5555555555555556,\"#d8576b\"],[0.6666666666666666,\"#ed7953\"],[0.7777777777777778,\"#fb9f3a\"],[0.8888888888888888,\"#fdca26\"],[1.0,\"#f0f921\"]]}],\"contourcarpet\":[{\"type\":\"contourcarpet\",\"colorbar\":{\"outlinewidth\":0,\"ticks\":\"\"}}],\"contour\":[{\"type\":\"contour\",\"colorbar\":{\"outlinewidth\":0,\"ticks\":\"\"},\"colorscale\":[[0.0,\"#0d0887\"],[0.1111111111111111,\"#46039f\"],[0.2222222222222222,\"#7201a8\"],[0.3333333333333333,\"#9c179e\"],[0.4444444444444444,\"#bd3786\"],[0.5555555555555556,\"#d8576b\"],[0.6666666666666666,\"#ed7953\"],[0.7777777777777778,\"#fb9f3a\"],[0.8888888888888888,\"#fdca26\"],[1.0,\"#f0f921\"]]}],\"surface\":[{\"type\":\"surface\",\"colorbar\":{\"outlinewidth\":0,\"ticks\":\"\"},\"colorscale\":[[0.0,\"#0d0887\"],[0.1111111111111111,\"#46039f\"],[0.2222222222222222,\"#7201a8\"],[0.3333333333333333,\"#9c179e\"],[0.4444444444444444,\"#bd3786\"],[0.5555555555555556,\"#d8576b\"],[0.6666666666666666,\"#ed7953\"],[0.7777777777777778,\"#fb9f3a\"],[0.8888888888888888,\"#fdca26\"],[1.0,\"#f0f921\"]]}],\"mesh3d\":[{\"type\":\"mesh3d\",\"colorbar\":{\"outlinewidth\":0,\"ticks\":\"\"}}],\"scatter\":[{\"fillpattern\":{\"fillmode\":\"overlay\",\"size\":10,\"solidity\":0.2},\"type\":\"scatter\"}],\"parcoords\":[{\"type\":\"parcoords\",\"line\":{\"colorbar\":{\"outlinewidth\":0,\"ticks\":\"\"}}}],\"scatterpolargl\":[{\"type\":\"scatterpolargl\",\"marker\":{\"colorbar\":{\"outlinewidth\":0,\"ticks\":\"\"}}}],\"bar\":[{\"error_x\":{\"color\":\"#2a3f5f\"},\"error_y\":{\"color\":\"#2a3f5f\"},\"marker\":{\"line\":{\"color\":\"#E5ECF6\",\"width\":0.5},\"pattern\":{\"fillmode\":\"overlay\",\"size\":10,\"solidity\":0.2}},\"type\":\"bar\"}],\"scattergeo\":[{\"type\":\"scattergeo\",\"marker\":{\"colorbar\":{\"outlinewidth\":0,\"ticks\":\"\"}}}],\"scatterpolar\":[{\"type\":\"scatterpolar\",\"marker\":{\"colorbar\":{\"outlinewidth\":0,\"ticks\":\"\"}}}],\"histogram\":[{\"marker\":{\"pattern\":{\"fillmode\":\"overlay\",\"size\":10,\"solidity\":0.2}},\"type\":\"histogram\"}],\"scattergl\":[{\"type\":\"scattergl\",\"marker\":{\"colorbar\":{\"outlinewidth\":0,\"ticks\":\"\"}}}],\"scatter3d\":[{\"type\":\"scatter3d\",\"line\":{\"colorbar\":{\"outlinewidth\":0,\"ticks\":\"\"}},\"marker\":{\"colorbar\":{\"outlinewidth\":0,\"ticks\":\"\"}}}],\"scattermapbox\":[{\"type\":\"scattermapbox\",\"marker\":{\"colorbar\":{\"outlinewidth\":0,\"ticks\":\"\"}}}],\"scatterternary\":[{\"type\":\"scatterternary\",\"marker\":{\"colorbar\":{\"outlinewidth\":0,\"ticks\":\"\"}}}],\"scattercarpet\":[{\"type\":\"scattercarpet\",\"marker\":{\"colorbar\":{\"outlinewidth\":0,\"ticks\":\"\"}}}],\"carpet\":[{\"aaxis\":{\"endlinecolor\":\"#2a3f5f\",\"gridcolor\":\"white\",\"linecolor\":\"white\",\"minorgridcolor\":\"white\",\"startlinecolor\":\"#2a3f5f\"},\"baxis\":{\"endlinecolor\":\"#2a3f5f\",\"gridcolor\":\"white\",\"linecolor\":\"white\",\"minorgridcolor\":\"white\",\"startlinecolor\":\"#2a3f5f\"},\"type\":\"carpet\"}],\"table\":[{\"cells\":{\"fill\":{\"color\":\"#EBF0F8\"},\"line\":{\"color\":\"white\"}},\"header\":{\"fill\":{\"color\":\"#C8D4E3\"},\"line\":{\"color\":\"white\"}},\"type\":\"table\"}],\"barpolar\":[{\"marker\":{\"line\":{\"color\":\"#E5ECF6\",\"width\":0.5},\"pattern\":{\"fillmode\":\"overlay\",\"size\":10,\"solidity\":0.2}},\"type\":\"barpolar\"}],\"pie\":[{\"automargin\":true,\"type\":\"pie\"}]},\"layout\":{\"autotypenumbers\":\"strict\",\"colorway\":[\"#636efa\",\"#EF553B\",\"#00cc96\",\"#ab63fa\",\"#FFA15A\",\"#19d3f3\",\"#FF6692\",\"#B6E880\",\"#FF97FF\",\"#FECB52\"],\"font\":{\"color\":\"#2a3f5f\"},\"hovermode\":\"closest\",\"hoverlabel\":{\"align\":\"left\"},\"paper_bgcolor\":\"white\",\"plot_bgcolor\":\"#E5ECF6\",\"polar\":{\"bgcolor\":\"#E5ECF6\",\"angularaxis\":{\"gridcolor\":\"white\",\"linecolor\":\"white\",\"ticks\":\"\"},\"radialaxis\":{\"gridcolor\":\"white\",\"linecolor\":\"white\",\"ticks\":\"\"}},\"ternary\":{\"bgcolor\":\"#E5ECF6\",\"aaxis\":{\"gridcolor\":\"white\",\"linecolor\":\"white\",\"ticks\":\"\"},\"baxis\":{\"gridcolor\":\"white\",\"linecolor\":\"white\",\"ticks\":\"\"},\"caxis\":{\"gridcolor\":\"white\",\"linecolor\":\"white\",\"ticks\":\"\"}},\"coloraxis\":{\"colorbar\":{\"outlinewidth\":0,\"ticks\":\"\"}},\"colorscale\":{\"sequential\":[[0.0,\"#0d0887\"],[0.1111111111111111,\"#46039f\"],[0.2222222222222222,\"#7201a8\"],[0.3333333333333333,\"#9c179e\"],[0.4444444444444444,\"#bd3786\"],[0.5555555555555556,\"#d8576b\"],[0.6666666666666666,\"#ed7953\"],[0.7777777777777778,\"#fb9f3a\"],[0.8888888888888888,\"#fdca26\"],[1.0,\"#f0f921\"]],\"sequentialminus\":[[0.0,\"#0d0887\"],[0.1111111111111111,\"#46039f\"],[0.2222222222222222,\"#7201a8\"],[0.3333333333333333,\"#9c179e\"],[0.4444444444444444,\"#bd3786\"],[0.5555555555555556,\"#d8576b\"],[0.6666666666666666,\"#ed7953\"],[0.7777777777777778,\"#fb9f3a\"],[0.8888888888888888,\"#fdca26\"],[1.0,\"#f0f921\"]],\"diverging\":[[0,\"#8e0152\"],[0.1,\"#c51b7d\"],[0.2,\"#de77ae\"],[0.3,\"#f1b6da\"],[0.4,\"#fde0ef\"],[0.5,\"#f7f7f7\"],[0.6,\"#e6f5d0\"],[0.7,\"#b8e186\"],[0.8,\"#7fbc41\"],[0.9,\"#4d9221\"],[1,\"#276419\"]]},\"xaxis\":{\"gridcolor\":\"white\",\"linecolor\":\"white\",\"ticks\":\"\",\"title\":{\"standoff\":15},\"zerolinecolor\":\"white\",\"automargin\":true,\"zerolinewidth\":2},\"yaxis\":{\"gridcolor\":\"white\",\"linecolor\":\"white\",\"ticks\":\"\",\"title\":{\"standoff\":15},\"zerolinecolor\":\"white\",\"automargin\":true,\"zerolinewidth\":2},\"scene\":{\"xaxis\":{\"backgroundcolor\":\"#E5ECF6\",\"gridcolor\":\"white\",\"linecolor\":\"white\",\"showbackground\":true,\"ticks\":\"\",\"zerolinecolor\":\"white\",\"gridwidth\":2},\"yaxis\":{\"backgroundcolor\":\"#E5ECF6\",\"gridcolor\":\"white\",\"linecolor\":\"white\",\"showbackground\":true,\"ticks\":\"\",\"zerolinecolor\":\"white\",\"gridwidth\":2},\"zaxis\":{\"backgroundcolor\":\"#E5ECF6\",\"gridcolor\":\"white\",\"linecolor\":\"white\",\"showbackground\":true,\"ticks\":\"\",\"zerolinecolor\":\"white\",\"gridwidth\":2}},\"shapedefaults\":{\"line\":{\"color\":\"#2a3f5f\"}},\"annotationdefaults\":{\"arrowcolor\":\"#2a3f5f\",\"arrowhead\":0,\"arrowwidth\":1},\"geo\":{\"bgcolor\":\"white\",\"landcolor\":\"#E5ECF6\",\"subunitcolor\":\"white\",\"showland\":true,\"showlakes\":true,\"lakecolor\":\"white\"},\"title\":{\"x\":0.05},\"mapbox\":{\"style\":\"light\"}}},\"xaxis\":{\"anchor\":\"y\",\"domain\":[0.0,1.0],\"title\":{\"text\":\"State\"}},\"yaxis\":{\"anchor\":\"x\",\"domain\":[0.0,1.0],\"title\":{\"text\":\"Count\"}},\"legend\":{\"title\":{\"text\":\"variable\"},\"tracegroupgap\":0},\"title\":{\"text\":\"State Statistics of Gun Violence (2013-2018)\"},\"barmode\":\"relative\"},                        {\"responsive\": true}                    ).then(function(){\n",
       "                            \n",
       "var gd = document.getElementById('7dbd3d14-1f50-42c4-95a0-e75a4aa3abe8');\n",
       "var x = new MutationObserver(function (mutations, observer) {{\n",
       "        var display = window.getComputedStyle(gd).display;\n",
       "        if (!display || display === 'none') {{\n",
       "            console.log([gd, 'removed!']);\n",
       "            Plotly.purge(gd);\n",
       "            observer.disconnect();\n",
       "        }}\n",
       "}});\n",
       "\n",
       "// Listen for the removal of the full notebook cells\n",
       "var notebookContainer = gd.closest('#notebook-container');\n",
       "if (notebookContainer) {{\n",
       "    x.observe(notebookContainer, {childList: true});\n",
       "}}\n",
       "\n",
       "// Listen for the clearing of the current output cell\n",
       "var outputEl = gd.closest('.output');\n",
       "if (outputEl) {{\n",
       "    x.observe(outputEl, {childList: true});\n",
       "}}\n",
       "\n",
       "                        })                };                });            </script>        </div>"
      ]
     },
     "metadata": {},
     "output_type": "display_data"
    }
   ],
   "source": [
    "import matplotlib.pyplot as plt \n",
    "import plotly.express as px\n",
    "import seaborn as sns\n",
    "\n",
    "sns.set_theme(style=\"whitegrid\")\n",
    "\n",
    "state_stats = gun_data.groupby('state').agg({\n",
    "    'n_killed': 'sum',\n",
    "    'n_injured': 'sum',\n",
    "}).reset_index()\n",
    "\n",
    "# Create an interactive bar plot using Plotly Express\n",
    "fig = px.bar(\n",
    "    state_stats,\n",
    "    x='state',\n",
    "    y=['n_killed', 'n_injured'],\n",
    "    title='State Statistics of Gun Violence (2013-2018)',\n",
    "    labels={'state': 'State', 'value': 'Count'},\n",
    "    template='plotly',\n",
    "    color_discrete_sequence=['red', 'blue', 'green']\n",
    ")\n",
    "# function to show the plot\n",
    "fig.show()\n",
    "\n"
   ]
  },
  {
   "cell_type": "code",
   "execution_count": 21,
   "id": "b9843c9a",
   "metadata": {
    "execution": {
     "iopub.execute_input": "2023-08-16T18:47:53.199177Z",
     "iopub.status.busy": "2023-08-16T18:47:53.198794Z",
     "iopub.status.idle": "2023-08-16T18:47:53.772135Z",
     "shell.execute_reply": "2023-08-16T18:47:53.771343Z"
    },
    "jupyter": {
     "source_hidden": true
    },
    "papermill": {
     "duration": 0.584505,
     "end_time": "2023-08-16T18:47:53.773841",
     "exception": false,
     "start_time": "2023-08-16T18:47:53.189336",
     "status": "completed"
    },
    "tags": []
   },
   "outputs": [
    {
     "data": {
      "image/png": "[encoded data removed]",
      "text/plain": [
       "<Figure size 1000x600 with 1 Axes>"
      ]
     },
     "metadata": {},
     "output_type": "display_data"
    }
   ],
   "source": [
    "import matplotlib.pyplot as plt \n",
    "import seaborn as sns\n",
    "\n",
    "sns.set_theme(style=\"whitegrid\")\n",
    "\n",
    "# Group data by state and calculate total deaths per state\n",
    "state_death_counts = gun_data.groupby('state')['n_killed'].sum().sort_values(ascending=False)\n",
    "\n",
    "# Set a threshold for the minimum number of deaths to display\n",
    "min_deaths_threshold = 500  # Adjust this threshold as needed\n",
    "\n",
    "# Filter states based on the threshold\n",
    "selected_states = state_death_counts[state_death_counts >= min_deaths_threshold]\n",
    "\n",
    "# Set Seaborn style\n",
    "sns.set(style=\"whitegrid\")\n",
    "\n",
    "# Set Matplotlib figure size\n",
    "plt.figure(figsize=(10, 6))\n",
    "\n",
    "# Create a Seaborn bar plot\n",
    "sns.barplot(x=selected_states.index, y=selected_states.values, color='blue')\n",
    "\n",
    "plt.title('Deaths by State')\n",
    "# naming the x axis\n",
    "plt.xlabel('State')\n",
    "# naming the y axis\n",
    "plt.ylabel('Number of deaths')\n",
    "  \n",
    "plt.xticks(rotation=90)\n",
    "  \n",
    "# function to show the plot\n",
    "plt.show()"
   ]
  },
  {
   "cell_type": "code",
   "execution_count": 22,
   "id": "24d9d9ea",
   "metadata": {
    "_kg_hide-input": true,
    "execution": {
     "iopub.execute_input": "2023-08-16T18:47:53.794224Z",
     "iopub.status.busy": "2023-08-16T18:47:53.793443Z",
     "iopub.status.idle": "2023-08-16T18:47:53.874286Z",
     "shell.execute_reply": "2023-08-16T18:47:53.873347Z"
    },
    "papermill": {
     "duration": 0.092587,
     "end_time": "2023-08-16T18:47:53.876061",
     "exception": false,
     "start_time": "2023-08-16T18:47:53.783474",
     "status": "completed"
    },
    "tags": []
   },
   "outputs": [
    {
     "data": {
      "text/html": [
       "<div>                            <div id=\"a3f102d5-08fc-48b6-9018-385d6cf2f89e\" class=\"plotly-graph-div\" style=\"height:525px; width:100%;\"></div>            <script type=\"text/javascript\">                require([\"plotly\"], function(Plotly) {                    window.PLOTLYENV=window.PLOTLYENV || {};                                    if (document.getElementById(\"a3f102d5-08fc-48b6-9018-385d6cf2f89e\")) {                    Plotly.newPlot(                        \"a3f102d5-08fc-48b6-9018-385d6cf2f89e\",                        [{\"alignmentgroup\":\"True\",\"hovertemplate\":\"variable=n_killed\\u003cbr\\u003eYear=%{x}\\u003cbr\\u003eCount=%{y}\\u003cextra\\u003e\\u003c\\u002fextra\\u003e\",\"legendgroup\":\"n_killed\",\"marker\":{\"color\":\"red\",\"pattern\":{\"shape\":\"\"}},\"name\":\"n_killed\",\"offsetgroup\":\"n_killed\",\"orientation\":\"v\",\"showlegend\":true,\"textposition\":\"auto\",\"x\":[2013,2014,2015,2016,2017,2018],\"xaxis\":\"x\",\"y\":[317,12557,13484,15066,15511,3533],\"yaxis\":\"y\",\"type\":\"bar\"},{\"alignmentgroup\":\"True\",\"hovertemplate\":\"variable=n_injured\\u003cbr\\u003eYear=%{x}\\u003cbr\\u003eCount=%{y}\\u003cextra\\u003e\\u003c\\u002fextra\\u003e\",\"legendgroup\":\"n_injured\",\"marker\":{\"color\":\"blue\",\"pattern\":{\"shape\":\"\"}},\"name\":\"n_injured\",\"offsetgroup\":\"n_injured\",\"orientation\":\"v\",\"showlegend\":true,\"textposition\":\"auto\",\"x\":[2013,2014,2015,2016,2017,2018],\"xaxis\":\"x\",\"y\":[979,23002,26967,30580,30703,6171],\"yaxis\":\"y\",\"type\":\"bar\"}],                        {\"template\":{\"data\":{\"histogram2dcontour\":[{\"type\":\"histogram2dcontour\",\"colorbar\":{\"outlinewidth\":0,\"ticks\":\"\"},\"colorscale\":[[0.0,\"#0d0887\"],[0.1111111111111111,\"#46039f\"],[0.2222222222222222,\"#7201a8\"],[0.3333333333333333,\"#9c179e\"],[0.4444444444444444,\"#bd3786\"],[0.5555555555555556,\"#d8576b\"],[0.6666666666666666,\"#ed7953\"],[0.7777777777777778,\"#fb9f3a\"],[0.8888888888888888,\"#fdca26\"],[1.0,\"#f0f921\"]]}],\"choropleth\":[{\"type\":\"choropleth\",\"colorbar\":{\"outlinewidth\":0,\"ticks\":\"\"}}],\"histogram2d\":[{\"type\":\"histogram2d\",\"colorbar\":{\"outlinewidth\":0,\"ticks\":\"\"},\"colorscale\":[[0.0,\"#0d0887\"],[0.1111111111111111,\"#46039f\"],[0.2222222222222222,\"#7201a8\"],[0.3333333333333333,\"#9c179e\"],[0.4444444444444444,\"#bd3786\"],[0.5555555555555556,\"#d8576b\"],[0.6666666666666666,\"#ed7953\"],[0.7777777777777778,\"#fb9f3a\"],[0.8888888888888888,\"#fdca26\"],[1.0,\"#f0f921\"]]}],\"heatmap\":[{\"type\":\"heatmap\",\"colorbar\":{\"outlinewidth\":0,\"ticks\":\"\"},\"colorscale\":[[0.0,\"#0d0887\"],[0.1111111111111111,\"#46039f\"],[0.2222222222222222,\"#7201a8\"],[0.3333333333333333,\"#9c179e\"],[0.4444444444444444,\"#bd3786\"],[0.5555555555555556,\"#d8576b\"],[0.6666666666666666,\"#ed7953\"],[0.7777777777777778,\"#fb9f3a\"],[0.8888888888888888,\"#fdca26\"],[1.0,\"#f0f921\"]]}],\"heatmapgl\":[{\"type\":\"heatmapgl\",\"colorbar\":{\"outlinewidth\":0,\"ticks\":\"\"},\"colorscale\":[[0.0,\"#0d0887\"],[0.1111111111111111,\"#46039f\"],[0.2222222222222222,\"#7201a8\"],[0.3333333333333333,\"#9c179e\"],[0.4444444444444444,\"#bd3786\"],[0.5555555555555556,\"#d8576b\"],[0.6666666666666666,\"#ed7953\"],[0.7777777777777778,\"#fb9f3a\"],[0.8888888888888888,\"#fdca26\"],[1.0,\"#f0f921\"]]}],\"contourcarpet\":[{\"type\":\"contourcarpet\",\"colorbar\":{\"outlinewidth\":0,\"ticks\":\"\"}}],\"contour\":[{\"type\":\"contour\",\"colorbar\":{\"outlinewidth\":0,\"ticks\":\"\"},\"colorscale\":[[0.0,\"#0d0887\"],[0.1111111111111111,\"#46039f\"],[0.2222222222222222,\"#7201a8\"],[0.3333333333333333,\"#9c179e\"],[0.4444444444444444,\"#bd3786\"],[0.5555555555555556,\"#d8576b\"],[0.6666666666666666,\"#ed7953\"],[0.7777777777777778,\"#fb9f3a\"],[0.8888888888888888,\"#fdca26\"],[1.0,\"#f0f921\"]]}],\"surface\":[{\"type\":\"surface\",\"colorbar\":{\"outlinewidth\":0,\"ticks\":\"\"},\"colorscale\":[[0.0,\"#0d0887\"],[0.1111111111111111,\"#46039f\"],[0.2222222222222222,\"#7201a8\"],[0.3333333333333333,\"#9c179e\"],[0.4444444444444444,\"#bd3786\"],[0.5555555555555556,\"#d8576b\"],[0.6666666666666666,\"#ed7953\"],[0.7777777777777778,\"#fb9f3a\"],[0.8888888888888888,\"#fdca26\"],[1.0,\"#f0f921\"]]}],\"mesh3d\":[{\"type\":\"mesh3d\",\"colorbar\":{\"outlinewidth\":0,\"ticks\":\"\"}}],\"scatter\":[{\"fillpattern\":{\"fillmode\":\"overlay\",\"size\":10,\"solidity\":0.2},\"type\":\"scatter\"}],\"parcoords\":[{\"type\":\"parcoords\",\"line\":{\"colorbar\":{\"outlinewidth\":0,\"ticks\":\"\"}}}],\"scatterpolargl\":[{\"type\":\"scatterpolargl\",\"marker\":{\"colorbar\":{\"outlinewidth\":0,\"ticks\":\"\"}}}],\"bar\":[{\"error_x\":{\"color\":\"#2a3f5f\"},\"error_y\":{\"color\":\"#2a3f5f\"},\"marker\":{\"line\":{\"color\":\"#E5ECF6\",\"width\":0.5},\"pattern\":{\"fillmode\":\"overlay\",\"size\":10,\"solidity\":0.2}},\"type\":\"bar\"}],\"scattergeo\":[{\"type\":\"scattergeo\",\"marker\":{\"colorbar\":{\"outlinewidth\":0,\"ticks\":\"\"}}}],\"scatterpolar\":[{\"type\":\"scatterpolar\",\"marker\":{\"colorbar\":{\"outlinewidth\":0,\"ticks\":\"\"}}}],\"histogram\":[{\"marker\":{\"pattern\":{\"fillmode\":\"overlay\",\"size\":10,\"solidity\":0.2}},\"type\":\"histogram\"}],\"scattergl\":[{\"type\":\"scattergl\",\"marker\":{\"colorbar\":{\"outlinewidth\":0,\"ticks\":\"\"}}}],\"scatter3d\":[{\"type\":\"scatter3d\",\"line\":{\"colorbar\":{\"outlinewidth\":0,\"ticks\":\"\"}},\"marker\":{\"colorbar\":{\"outlinewidth\":0,\"ticks\":\"\"}}}],\"scattermapbox\":[{\"type\":\"scattermapbox\",\"marker\":{\"colorbar\":{\"outlinewidth\":0,\"ticks\":\"\"}}}],\"scatterternary\":[{\"type\":\"scatterternary\",\"marker\":{\"colorbar\":{\"outlinewidth\":0,\"ticks\":\"\"}}}],\"scattercarpet\":[{\"type\":\"scattercarpet\",\"marker\":{\"colorbar\":{\"outlinewidth\":0,\"ticks\":\"\"}}}],\"carpet\":[{\"aaxis\":{\"endlinecolor\":\"#2a3f5f\",\"gridcolor\":\"white\",\"linecolor\":\"white\",\"minorgridcolor\":\"white\",\"startlinecolor\":\"#2a3f5f\"},\"baxis\":{\"endlinecolor\":\"#2a3f5f\",\"gridcolor\":\"white\",\"linecolor\":\"white\",\"minorgridcolor\":\"white\",\"startlinecolor\":\"#2a3f5f\"},\"type\":\"carpet\"}],\"table\":[{\"cells\":{\"fill\":{\"color\":\"#EBF0F8\"},\"line\":{\"color\":\"white\"}},\"header\":{\"fill\":{\"color\":\"#C8D4E3\"},\"line\":{\"color\":\"white\"}},\"type\":\"table\"}],\"barpolar\":[{\"marker\":{\"line\":{\"color\":\"#E5ECF6\",\"width\":0.5},\"pattern\":{\"fillmode\":\"overlay\",\"size\":10,\"solidity\":0.2}},\"type\":\"barpolar\"}],\"pie\":[{\"automargin\":true,\"type\":\"pie\"}]},\"layout\":{\"autotypenumbers\":\"strict\",\"colorway\":[\"#636efa\",\"#EF553B\",\"#00cc96\",\"#ab63fa\",\"#FFA15A\",\"#19d3f3\",\"#FF6692\",\"#B6E880\",\"#FF97FF\",\"#FECB52\"],\"font\":{\"color\":\"#2a3f5f\"},\"hovermode\":\"closest\",\"hoverlabel\":{\"align\":\"left\"},\"paper_bgcolor\":\"white\",\"plot_bgcolor\":\"#E5ECF6\",\"polar\":{\"bgcolor\":\"#E5ECF6\",\"angularaxis\":{\"gridcolor\":\"white\",\"linecolor\":\"white\",\"ticks\":\"\"},\"radialaxis\":{\"gridcolor\":\"white\",\"linecolor\":\"white\",\"ticks\":\"\"}},\"ternary\":{\"bgcolor\":\"#E5ECF6\",\"aaxis\":{\"gridcolor\":\"white\",\"linecolor\":\"white\",\"ticks\":\"\"},\"baxis\":{\"gridcolor\":\"white\",\"linecolor\":\"white\",\"ticks\":\"\"},\"caxis\":{\"gridcolor\":\"white\",\"linecolor\":\"white\",\"ticks\":\"\"}},\"coloraxis\":{\"colorbar\":{\"outlinewidth\":0,\"ticks\":\"\"}},\"colorscale\":{\"sequential\":[[0.0,\"#0d0887\"],[0.1111111111111111,\"#46039f\"],[0.2222222222222222,\"#7201a8\"],[0.3333333333333333,\"#9c179e\"],[0.4444444444444444,\"#bd3786\"],[0.5555555555555556,\"#d8576b\"],[0.6666666666666666,\"#ed7953\"],[0.7777777777777778,\"#fb9f3a\"],[0.8888888888888888,\"#fdca26\"],[1.0,\"#f0f921\"]],\"sequentialminus\":[[0.0,\"#0d0887\"],[0.1111111111111111,\"#46039f\"],[0.2222222222222222,\"#7201a8\"],[0.3333333333333333,\"#9c179e\"],[0.4444444444444444,\"#bd3786\"],[0.5555555555555556,\"#d8576b\"],[0.6666666666666666,\"#ed7953\"],[0.7777777777777778,\"#fb9f3a\"],[0.8888888888888888,\"#fdca26\"],[1.0,\"#f0f921\"]],\"diverging\":[[0,\"#8e0152\"],[0.1,\"#c51b7d\"],[0.2,\"#de77ae\"],[0.3,\"#f1b6da\"],[0.4,\"#fde0ef\"],[0.5,\"#f7f7f7\"],[0.6,\"#e6f5d0\"],[0.7,\"#b8e186\"],[0.8,\"#7fbc41\"],[0.9,\"#4d9221\"],[1,\"#276419\"]]},\"xaxis\":{\"gridcolor\":\"white\",\"linecolor\":\"white\",\"ticks\":\"\",\"title\":{\"standoff\":15},\"zerolinecolor\":\"white\",\"automargin\":true,\"zerolinewidth\":2},\"yaxis\":{\"gridcolor\":\"white\",\"linecolor\":\"white\",\"ticks\":\"\",\"title\":{\"standoff\":15},\"zerolinecolor\":\"white\",\"automargin\":true,\"zerolinewidth\":2},\"scene\":{\"xaxis\":{\"backgroundcolor\":\"#E5ECF6\",\"gridcolor\":\"white\",\"linecolor\":\"white\",\"showbackground\":true,\"ticks\":\"\",\"zerolinecolor\":\"white\",\"gridwidth\":2},\"yaxis\":{\"backgroundcolor\":\"#E5ECF6\",\"gridcolor\":\"white\",\"linecolor\":\"white\",\"showbackground\":true,\"ticks\":\"\",\"zerolinecolor\":\"white\",\"gridwidth\":2},\"zaxis\":{\"backgroundcolor\":\"#E5ECF6\",\"gridcolor\":\"white\",\"linecolor\":\"white\",\"showbackground\":true,\"ticks\":\"\",\"zerolinecolor\":\"white\",\"gridwidth\":2}},\"shapedefaults\":{\"line\":{\"color\":\"#2a3f5f\"}},\"annotationdefaults\":{\"arrowcolor\":\"#2a3f5f\",\"arrowhead\":0,\"arrowwidth\":1},\"geo\":{\"bgcolor\":\"white\",\"landcolor\":\"#E5ECF6\",\"subunitcolor\":\"white\",\"showland\":true,\"showlakes\":true,\"lakecolor\":\"white\"},\"title\":{\"x\":0.05},\"mapbox\":{\"style\":\"light\"}}},\"xaxis\":{\"anchor\":\"y\",\"domain\":[0.0,1.0],\"title\":{\"text\":\"Year\"}},\"yaxis\":{\"anchor\":\"x\",\"domain\":[0.0,1.0],\"title\":{\"text\":\"Count\"}},\"legend\":{\"title\":{\"text\":\"variable\"},\"tracegroupgap\":0},\"title\":{\"text\":\"Yearly Statistics of Gun Violence\"},\"barmode\":\"relative\"},                        {\"responsive\": true}                    ).then(function(){\n",
       "                            \n",
       "var gd = document.getElementById('a3f102d5-08fc-48b6-9018-385d6cf2f89e');\n",
       "var x = new MutationObserver(function (mutations, observer) {{\n",
       "        var display = window.getComputedStyle(gd).display;\n",
       "        if (!display || display === 'none') {{\n",
       "            console.log([gd, 'removed!']);\n",
       "            Plotly.purge(gd);\n",
       "            observer.disconnect();\n",
       "        }}\n",
       "}});\n",
       "\n",
       "// Listen for the removal of the full notebook cells\n",
       "var notebookContainer = gd.closest('#notebook-container');\n",
       "if (notebookContainer) {{\n",
       "    x.observe(notebookContainer, {childList: true});\n",
       "}}\n",
       "\n",
       "// Listen for the clearing of the current output cell\n",
       "var outputEl = gd.closest('.output');\n",
       "if (outputEl) {{\n",
       "    x.observe(outputEl, {childList: true});\n",
       "}}\n",
       "\n",
       "                        })                };                });            </script>        </div>"
      ]
     },
     "metadata": {},
     "output_type": "display_data"
    }
   ],
   "source": [
    "import matplotlib.pyplot as plt \n",
    "import plotly.express as px\n",
    "import seaborn as sns\n",
    "\n",
    "sns.set_theme(style=\"whitegrid\")\n",
    "\n",
    "# Extract the year\n",
    "gun_data['year'] = gun_data['date'].dt.year\n",
    "\n",
    "# Group data by state and calculate total deaths per state\n",
    "state_death_counts = gun_data.groupby('year')['n_killed'].sum().sort_values(ascending=False)\n",
    "\n",
    "yearly_stats = gun_data.groupby('year').agg({\n",
    "    'n_killed': 'sum',\n",
    "    'n_injured': 'sum'\n",
    "}).reset_index()\n",
    "\n",
    "# Create an interactive bar plot using Plotly Express\n",
    "fig = px.bar(\n",
    "    yearly_stats,\n",
    "    x='year',\n",
    "    y=['n_killed', 'n_injured'],\n",
    "    title='Yearly Statistics of Gun Violence',\n",
    "    labels={'year': 'Year', 'value': 'Count'},\n",
    "    template='plotly',\n",
    "    color_discrete_sequence=['red', 'blue', 'green']\n",
    ")\n",
    "# function to show the plot\n",
    "fig.show()\n",
    "\n"
   ]
  },
  {
   "cell_type": "markdown",
   "id": "c1e93976",
   "metadata": {
    "papermill": {
     "duration": 0.009007,
     "end_time": "2023-08-16T18:47:53.894834",
     "exception": false,
     "start_time": "2023-08-16T18:47:53.885827",
     "status": "completed"
    },
    "tags": []
   },
   "source": [
    "If participant_relationship == NaN change to None or decide to remove column if not relevant\n",
    "* It's an interesting statistic to have "
   ]
  },
  {
   "cell_type": "markdown",
   "id": "bc87a032",
   "metadata": {
    "papermill": {
     "duration": 0.008914,
     "end_time": "2023-08-16T18:47:53.912942",
     "exception": false,
     "start_time": "2023-08-16T18:47:53.904028",
     "status": "completed"
    },
    "tags": []
   },
   "source": [
    "Conclusion: I would have liked to do a male/female ratio of suspect to victim"
   ]
  }
 ],
 "metadata": {
  "kernelspec": {
   "display_name": "Python 3",
   "language": "python",
   "name": "python3"
  },
  "language_info": {
   "codemirror_mode": {
    "name": "ipython",
    "version": 3
   },
   "file_extension": ".py",
   "mimetype": "text/x-python",
   "name": "python",
   "nbconvert_exporter": "python",
   "pygments_lexer": "ipython3",
   "version": "3.10.12"
  },
  "papermill": {
   "default_parameters": {},
   "duration": 142.924435,
   "end_time": "2023-08-16T18:47:54.943920",
   "environment_variables": {},
   "exception": null,
   "input_path": "__notebook__.ipynb",
   "output_path": "__notebook__.ipynb",
   "parameters": {},
   "start_time": "2023-08-16T18:45:32.019485",
   "version": "2.4.0"
  }
 },
 "nbformat": 4,
 "nbformat_minor": 5
}
