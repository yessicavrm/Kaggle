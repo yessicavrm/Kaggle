{
 "cells": [
  {
   "cell_type": "markdown",
   "id": "c137e077",
   "metadata": {
    "papermill": {
     "duration": 0.007283,
     "end_time": "2023-08-11T18:57:31.765736",
     "exception": false,
     "start_time": "2023-08-11T18:57:31.758453",
     "status": "completed"
    },
    "tags": []
   },
   "source": [
    "**This notebook is an exercise in the [Introduction to Machine Learning](https://www.kaggle.com/learn/intro-to-machine-learning) course.  You can reference the tutorial at [this link](https://www.kaggle.com/dansbecker/your-first-machine-learning-model).**\n",
    "\n",
    "---\n"
   ]
  },
  {
   "cell_type": "markdown",
   "id": "db51d1fb",
   "metadata": {
    "papermill": {
     "duration": 0.006252,
     "end_time": "2023-08-11T18:57:31.778859",
     "exception": false,
     "start_time": "2023-08-11T18:57:31.772607",
     "status": "completed"
    },
    "tags": []
   },
   "source": [
    "## Recap\n",
    "So far, you have loaded your data and reviewed it with the following code. Run this cell to set up your coding environment where the previous step left off."
   ]
  },
  {
   "cell_type": "code",
   "execution_count": 1,
   "id": "bdd6627a",
   "metadata": {
    "execution": {
     "iopub.execute_input": "2023-08-11T18:57:31.794368Z",
     "iopub.status.busy": "2023-08-11T18:57:31.793806Z",
     "iopub.status.idle": "2023-08-11T18:57:33.422224Z",
     "shell.execute_reply": "2023-08-11T18:57:33.419981Z"
    },
    "papermill": {
     "duration": 1.63942,
     "end_time": "2023-08-11T18:57:33.424909",
     "exception": false,
     "start_time": "2023-08-11T18:57:31.785489",
     "status": "completed"
    },
    "tags": []
   },
   "outputs": [
    {
     "name": "stderr",
     "output_type": "stream",
     "text": [
      "/opt/conda/lib/python3.10/site-packages/scipy/__init__.py:146: UserWarning: A NumPy version >=1.16.5 and <1.23.0 is required for this version of SciPy (detected version 1.23.5\n",
      "  warnings.warn(f\"A NumPy version >={np_minversion} and <{np_maxversion}\"\n"
     ]
    },
    {
     "name": "stdout",
     "output_type": "stream",
     "text": [
      "Setup Complete\n"
     ]
    }
   ],
   "source": [
    "# Code you have previously used to load data\n",
    "import pandas as pd\n",
    "\n",
    "# Path of the file to read\n",
    "iowa_file_path = '../input/home-data-for-ml-course/train.csv'\n",
    "\n",
    "home_data = pd.read_csv(iowa_file_path)\n",
    "\n",
    "# Set up code checking\n",
    "from learntools.core import binder\n",
    "binder.bind(globals())\n",
    "from learntools.machine_learning.ex3 import *\n",
    "\n",
    "print(\"Setup Complete\")"
   ]
  },
  {
   "cell_type": "markdown",
   "id": "7bf2d2dd",
   "metadata": {
    "papermill": {
     "duration": 0.006816,
     "end_time": "2023-08-11T18:57:33.439091",
     "exception": false,
     "start_time": "2023-08-11T18:57:33.432275",
     "status": "completed"
    },
    "tags": []
   },
   "source": [
    "# Exercises\n",
    "\n",
    "## Step 1: Specify Prediction Target\n",
    "Select the target variable, which corresponds to the sales price. Save this to a new variable called `y`. You'll need to print a list of the columns to find the name of the column you need.\n"
   ]
  },
  {
   "cell_type": "code",
   "execution_count": 2,
   "id": "f10480f0",
   "metadata": {
    "execution": {
     "iopub.execute_input": "2023-08-11T18:57:33.454637Z",
     "iopub.status.busy": "2023-08-11T18:57:33.454249Z",
     "iopub.status.idle": "2023-08-11T18:57:33.462438Z",
     "shell.execute_reply": "2023-08-11T18:57:33.461638Z"
    },
    "papermill": {
     "duration": 0.018447,
     "end_time": "2023-08-11T18:57:33.464495",
     "exception": false,
     "start_time": "2023-08-11T18:57:33.446048",
     "status": "completed"
    },
    "tags": []
   },
   "outputs": [
    {
     "data": {
      "text/plain": [
       "Index(['Id', 'MSSubClass', 'MSZoning', 'LotFrontage', 'LotArea', 'Street',\n",
       "       'Alley', 'LotShape', 'LandContour', 'Utilities', 'LotConfig',\n",
       "       'LandSlope', 'Neighborhood', 'Condition1', 'Condition2', 'BldgType',\n",
       "       'HouseStyle', 'OverallQual', 'OverallCond', 'YearBuilt', 'YearRemodAdd',\n",
       "       'RoofStyle', 'RoofMatl', 'Exterior1st', 'Exterior2nd', 'MasVnrType',\n",
       "       'MasVnrArea', 'ExterQual', 'ExterCond', 'Foundation', 'BsmtQual',\n",
       "       'BsmtCond', 'BsmtExposure', 'BsmtFinType1', 'BsmtFinSF1',\n",
       "       'BsmtFinType2', 'BsmtFinSF2', 'BsmtUnfSF', 'TotalBsmtSF', 'Heating',\n",
       "       'HeatingQC', 'CentralAir', 'Electrical', '1stFlrSF', '2ndFlrSF',\n",
       "       'LowQualFinSF', 'GrLivArea', 'BsmtFullBath', 'BsmtHalfBath', 'FullBath',\n",
       "       'HalfBath', 'BedroomAbvGr', 'KitchenAbvGr', 'KitchenQual',\n",
       "       'TotRmsAbvGrd', 'Functional', 'Fireplaces', 'FireplaceQu', 'GarageType',\n",
       "       'GarageYrBlt', 'GarageFinish', 'GarageCars', 'GarageArea', 'GarageQual',\n",
       "       'GarageCond', 'PavedDrive', 'WoodDeckSF', 'OpenPorchSF',\n",
       "       'EnclosedPorch', '3SsnPorch', 'ScreenPorch', 'PoolArea', 'PoolQC',\n",
       "       'Fence', 'MiscFeature', 'MiscVal', 'MoSold', 'YrSold', 'SaleType',\n",
       "       'SaleCondition', 'SalePrice'],\n",
       "      dtype='object')"
      ]
     },
     "execution_count": 2,
     "metadata": {},
     "output_type": "execute_result"
    }
   ],
   "source": [
    "# print the list of columns in the dataset to find the name of the prediction target\n",
    "home_data.columns"
   ]
  },
  {
   "cell_type": "code",
   "execution_count": 3,
   "id": "a8ef7955",
   "metadata": {
    "execution": {
     "iopub.execute_input": "2023-08-11T18:57:33.482257Z",
     "iopub.status.busy": "2023-08-11T18:57:33.481812Z",
     "iopub.status.idle": "2023-08-11T18:57:33.495316Z",
     "shell.execute_reply": "2023-08-11T18:57:33.494281Z"
    },
    "papermill": {
     "duration": 0.024213,
     "end_time": "2023-08-11T18:57:33.497450",
     "exception": false,
     "start_time": "2023-08-11T18:57:33.473237",
     "status": "completed"
    },
    "tags": []
   },
   "outputs": [
    {
     "data": {
      "application/javascript": [
       "parent.postMessage({\"jupyterEvent\": \"custom.exercise_interaction\", \"data\": {\"outcomeType\": 1, \"valueTowardsCompletion\": 0.25, \"interactionType\": 1, \"questionType\": 2, \"questionId\": \"1_SetTarget\", \"learnToolsVersion\": \"0.3.4\", \"failureMessage\": \"\", \"exceptionClass\": \"\", \"trace\": \"\"}}, \"*\")"
      ],
      "text/plain": [
       "<IPython.core.display.Javascript object>"
      ]
     },
     "metadata": {},
     "output_type": "display_data"
    },
    {
     "data": {
      "text/markdown": [
       "<span style=\"color:#33cc33\">Correct</span>"
      ],
      "text/plain": [
       "Correct"
      ]
     },
     "metadata": {},
     "output_type": "display_data"
    }
   ],
   "source": [
    "y = home_data.SalePrice\n",
    "\n",
    "# Check your answer\n",
    "step_1.check()"
   ]
  },
  {
   "cell_type": "code",
   "execution_count": 4,
   "id": "1cbf6b3a",
   "metadata": {
    "execution": {
     "iopub.execute_input": "2023-08-11T18:57:33.514695Z",
     "iopub.status.busy": "2023-08-11T18:57:33.513973Z",
     "iopub.status.idle": "2023-08-11T18:57:33.517827Z",
     "shell.execute_reply": "2023-08-11T18:57:33.517077Z"
    },
    "papermill": {
     "duration": 0.015231,
     "end_time": "2023-08-11T18:57:33.520148",
     "exception": false,
     "start_time": "2023-08-11T18:57:33.504917",
     "status": "completed"
    },
    "tags": []
   },
   "outputs": [],
   "source": [
    "# The lines below will show you a hint or the solution.\n",
    "# step_1.hint() \n",
    "# step_1.solution()"
   ]
  },
  {
   "cell_type": "markdown",
   "id": "de3fb879",
   "metadata": {
    "papermill": {
     "duration": 0.007188,
     "end_time": "2023-08-11T18:57:33.535287",
     "exception": false,
     "start_time": "2023-08-11T18:57:33.528099",
     "status": "completed"
    },
    "tags": []
   },
   "source": [
    "## Step 2: Create X\n",
    "Now you will create a DataFrame called `X` holding the predictive features.\n",
    "\n",
    "Since you want only some columns from the original data, you'll first create a list with the names of the columns you want in `X`.\n",
    "\n",
    "You'll use just the following columns in the list (you can copy and paste the whole list to save some typing, though you'll still need to add quotes):\n",
    "  * LotArea\n",
    "  * YearBuilt\n",
    "  * 1stFlrSF\n",
    "  * 2ndFlrSF\n",
    "  * FullBath\n",
    "  * BedroomAbvGr\n",
    "  * TotRmsAbvGrd\n",
    "\n",
    "After you've created that list of features, use it to create the DataFrame that you'll use to fit the model."
   ]
  },
  {
   "cell_type": "code",
   "execution_count": 5,
   "id": "15a9e1ec",
   "metadata": {
    "execution": {
     "iopub.execute_input": "2023-08-11T18:57:33.552949Z",
     "iopub.status.busy": "2023-08-11T18:57:33.552260Z",
     "iopub.status.idle": "2023-08-11T18:57:33.568056Z",
     "shell.execute_reply": "2023-08-11T18:57:33.566904Z"
    },
    "papermill": {
     "duration": 0.027314,
     "end_time": "2023-08-11T18:57:33.570405",
     "exception": false,
     "start_time": "2023-08-11T18:57:33.543091",
     "status": "completed"
    },
    "tags": []
   },
   "outputs": [
    {
     "data": {
      "application/javascript": [
       "parent.postMessage({\"jupyterEvent\": \"custom.exercise_interaction\", \"data\": {\"outcomeType\": 1, \"valueTowardsCompletion\": 0.25, \"interactionType\": 1, \"questionType\": 2, \"questionId\": \"2_SelectPredictionData\", \"learnToolsVersion\": \"0.3.4\", \"failureMessage\": \"\", \"exceptionClass\": \"\", \"trace\": \"\"}}, \"*\")"
      ],
      "text/plain": [
       "<IPython.core.display.Javascript object>"
      ]
     },
     "metadata": {},
     "output_type": "display_data"
    },
    {
     "data": {
      "text/markdown": [
       "<span style=\"color:#33cc33\">Correct</span>"
      ],
      "text/plain": [
       "Correct"
      ]
     },
     "metadata": {},
     "output_type": "display_data"
    }
   ],
   "source": [
    "# Create the list of features below\n",
    "feature_names = ['LotArea', 'YearBuilt', '1stFlrSF', '2ndFlrSF', 'FullBath','BedroomAbvGr','TotRmsAbvGrd' ]\n",
    "\n",
    "# Select data corresponding to features in feature_names\n",
    "X = home_data[feature_names]\n",
    "\n",
    "# Check your answer\n",
    "step_2.check()"
   ]
  },
  {
   "cell_type": "code",
   "execution_count": 6,
   "id": "530bd53e",
   "metadata": {
    "execution": {
     "iopub.execute_input": "2023-08-11T18:57:33.587764Z",
     "iopub.status.busy": "2023-08-11T18:57:33.587321Z",
     "iopub.status.idle": "2023-08-11T18:57:33.599551Z",
     "shell.execute_reply": "2023-08-11T18:57:33.598439Z"
    },
    "papermill": {
     "duration": 0.023593,
     "end_time": "2023-08-11T18:57:33.601735",
     "exception": false,
     "start_time": "2023-08-11T18:57:33.578142",
     "status": "completed"
    },
    "tags": []
   },
   "outputs": [
    {
     "data": {
      "application/javascript": [
       "parent.postMessage({\"jupyterEvent\": \"custom.exercise_interaction\", \"data\": {\"interactionType\": 2, \"questionType\": 2, \"questionId\": \"2_SelectPredictionData\", \"learnToolsVersion\": \"0.3.4\", \"valueTowardsCompletion\": 0.0, \"failureMessage\": \"\", \"exceptionClass\": \"\", \"trace\": \"\", \"outcomeType\": 4}}, \"*\")"
      ],
      "text/plain": [
       "<IPython.core.display.Javascript object>"
      ]
     },
     "metadata": {},
     "output_type": "display_data"
    },
    {
     "data": {
      "text/markdown": [
       "<span style=\"color:#3366cc\">Hint:</span> Capitalization and spelling are important when specifying variable names. Use the brackets notation when specifying data for X."
      ],
      "text/plain": [
       "Hint: Capitalization and spelling are important when specifying variable names. Use the brackets notation when specifying data for X."
      ]
     },
     "metadata": {},
     "output_type": "display_data"
    },
    {
     "data": {
      "application/javascript": [
       "parent.postMessage({\"jupyterEvent\": \"custom.exercise_interaction\", \"data\": {\"interactionType\": 3, \"questionType\": 2, \"questionId\": \"2_SelectPredictionData\", \"learnToolsVersion\": \"0.3.4\", \"valueTowardsCompletion\": 0.0, \"failureMessage\": \"\", \"exceptionClass\": \"\", \"trace\": \"\", \"outcomeType\": 4}}, \"*\")"
      ],
      "text/plain": [
       "<IPython.core.display.Javascript object>"
      ]
     },
     "metadata": {},
     "output_type": "display_data"
    },
    {
     "data": {
      "text/markdown": [
       "<span style=\"color:#33cc99\">Solution:</span> \n",
       "```python\n",
       "feature_names = [\"LotArea\", \"YearBuilt\", \"1stFlrSF\", \"2ndFlrSF\",\n",
       "                      \"FullBath\", \"BedroomAbvGr\", \"TotRmsAbvGrd\"]\n",
       "\n",
       "X=home_data[feature_names]\n",
       "```"
      ],
      "text/plain": [
       "Solution: \n",
       "```python\n",
       "feature_names = [\"LotArea\", \"YearBuilt\", \"1stFlrSF\", \"2ndFlrSF\",\n",
       "                      \"FullBath\", \"BedroomAbvGr\", \"TotRmsAbvGrd\"]\n",
       "\n",
       "X=home_data[feature_names]\n",
       "```"
      ]
     },
     "metadata": {},
     "output_type": "display_data"
    }
   ],
   "source": [
    " step_2.hint()\n",
    " step_2.solution()"
   ]
  },
  {
   "cell_type": "markdown",
   "id": "1fa475b4",
   "metadata": {
    "papermill": {
     "duration": 0.008076,
     "end_time": "2023-08-11T18:57:33.618327",
     "exception": false,
     "start_time": "2023-08-11T18:57:33.610251",
     "status": "completed"
    },
    "tags": []
   },
   "source": [
    "## Review Data\n",
    "Before building a model, take a quick look at **X** to verify it looks sensible"
   ]
  },
  {
   "cell_type": "code",
   "execution_count": 7,
   "id": "e749f79c",
   "metadata": {
    "execution": {
     "iopub.execute_input": "2023-08-11T18:57:33.637395Z",
     "iopub.status.busy": "2023-08-11T18:57:33.636965Z",
     "iopub.status.idle": "2023-08-11T18:57:33.647163Z",
     "shell.execute_reply": "2023-08-11T18:57:33.645638Z"
    },
    "papermill": {
     "duration": 0.022411,
     "end_time": "2023-08-11T18:57:33.649554",
     "exception": false,
     "start_time": "2023-08-11T18:57:33.627143",
     "status": "completed"
    },
    "tags": []
   },
   "outputs": [
    {
     "name": "stdout",
     "output_type": "stream",
     "text": [
      "   LotArea  YearBuilt  1stFlrSF  2ndFlrSF  FullBath  BedroomAbvGr  \\\n",
      "0     8450       2003       856       854         2             3   \n",
      "1     9600       1976      1262         0         2             3   \n",
      "2    11250       2001       920       866         2             3   \n",
      "3     9550       1915       961       756         1             3   \n",
      "4    14260       2000      1145      1053         2             4   \n",
      "\n",
      "   TotRmsAbvGrd  \n",
      "0             8  \n",
      "1             6  \n",
      "2             6  \n",
      "3             7  \n",
      "4             9  \n"
     ]
    }
   ],
   "source": [
    "# Review data\n",
    "# print description or statistics from X\n",
    "\n",
    "# print the top few lines\n",
    "print(X.head())"
   ]
  },
  {
   "cell_type": "markdown",
   "id": "d47056c8",
   "metadata": {
    "papermill": {
     "duration": 0.008247,
     "end_time": "2023-08-11T18:57:33.666392",
     "exception": false,
     "start_time": "2023-08-11T18:57:33.658145",
     "status": "completed"
    },
    "tags": []
   },
   "source": [
    "## Step 3: Specify and Fit Model\n",
    "Create a `DecisionTreeRegressor` and save it iowa_model. Ensure you've done the relevant import from sklearn to run this command.\n",
    "\n",
    "Then fit the model you just created using the data in `X` and `y` that you saved above."
   ]
  },
  {
   "cell_type": "code",
   "execution_count": 8,
   "id": "484794cd",
   "metadata": {
    "execution": {
     "iopub.execute_input": "2023-08-11T18:57:33.685866Z",
     "iopub.status.busy": "2023-08-11T18:57:33.684798Z",
     "iopub.status.idle": "2023-08-11T18:57:33.704885Z",
     "shell.execute_reply": "2023-08-11T18:57:33.704115Z"
    },
    "papermill": {
     "duration": 0.032435,
     "end_time": "2023-08-11T18:57:33.707230",
     "exception": false,
     "start_time": "2023-08-11T18:57:33.674795",
     "status": "completed"
    },
    "tags": []
   },
   "outputs": [
    {
     "data": {
      "application/javascript": [
       "parent.postMessage({\"jupyterEvent\": \"custom.exercise_interaction\", \"data\": {\"outcomeType\": 1, \"valueTowardsCompletion\": 0.25, \"interactionType\": 1, \"questionType\": 2, \"questionId\": \"3_CreateModel\", \"learnToolsVersion\": \"0.3.4\", \"failureMessage\": \"\", \"exceptionClass\": \"\", \"trace\": \"\"}}, \"*\")"
      ],
      "text/plain": [
       "<IPython.core.display.Javascript object>"
      ]
     },
     "metadata": {},
     "output_type": "display_data"
    },
    {
     "data": {
      "text/markdown": [
       "<span style=\"color:#33cc33\">Correct</span>"
      ],
      "text/plain": [
       "Correct"
      ]
     },
     "metadata": {},
     "output_type": "display_data"
    }
   ],
   "source": [
    "from sklearn.tree import DecisionTreeRegressor\n",
    "\n",
    "#specify the model. \n",
    "#For model reproducibility, set a numeric value for random_state when specifying the model\n",
    "iowa_model = DecisionTreeRegressor(random_state=1)\n",
    "\n",
    "# Fit the model\n",
    "iowa_model.fit(X,y)\n",
    "\n",
    "# Check your answer\n",
    "step_3.check()"
   ]
  },
  {
   "cell_type": "code",
   "execution_count": 9,
   "id": "987eee2a",
   "metadata": {
    "execution": {
     "iopub.execute_input": "2023-08-11T18:57:33.727231Z",
     "iopub.status.busy": "2023-08-11T18:57:33.726141Z",
     "iopub.status.idle": "2023-08-11T18:57:33.730474Z",
     "shell.execute_reply": "2023-08-11T18:57:33.729609Z"
    },
    "papermill": {
     "duration": 0.016558,
     "end_time": "2023-08-11T18:57:33.732582",
     "exception": false,
     "start_time": "2023-08-11T18:57:33.716024",
     "status": "completed"
    },
    "tags": []
   },
   "outputs": [],
   "source": [
    "# step_3.hint()\n",
    "# step_3.solution()"
   ]
  },
  {
   "cell_type": "markdown",
   "id": "19666313",
   "metadata": {
    "papermill": {
     "duration": 0.008727,
     "end_time": "2023-08-11T18:57:33.750207",
     "exception": false,
     "start_time": "2023-08-11T18:57:33.741480",
     "status": "completed"
    },
    "tags": []
   },
   "source": [
    "## Step 4: Make Predictions\n",
    "Make predictions with the model's `predict` command using `X` as the data. Save the results to a variable called `predictions`."
   ]
  },
  {
   "cell_type": "code",
   "execution_count": 10,
   "id": "3481207f",
   "metadata": {
    "execution": {
     "iopub.execute_input": "2023-08-11T18:57:33.769879Z",
     "iopub.status.busy": "2023-08-11T18:57:33.769231Z",
     "iopub.status.idle": "2023-08-11T18:57:33.783386Z",
     "shell.execute_reply": "2023-08-11T18:57:33.782156Z"
    },
    "papermill": {
     "duration": 0.026815,
     "end_time": "2023-08-11T18:57:33.785744",
     "exception": false,
     "start_time": "2023-08-11T18:57:33.758929",
     "status": "completed"
    },
    "tags": []
   },
   "outputs": [
    {
     "name": "stdout",
     "output_type": "stream",
     "text": [
      "[208500. 181500. 223500. ... 266500. 142125. 147500.]\n"
     ]
    },
    {
     "data": {
      "application/javascript": [
       "parent.postMessage({\"jupyterEvent\": \"custom.exercise_interaction\", \"data\": {\"outcomeType\": 1, \"valueTowardsCompletion\": 0.25, \"interactionType\": 1, \"questionType\": 2, \"questionId\": \"4_MakePredictions\", \"learnToolsVersion\": \"0.3.4\", \"failureMessage\": \"\", \"exceptionClass\": \"\", \"trace\": \"\"}}, \"*\")"
      ],
      "text/plain": [
       "<IPython.core.display.Javascript object>"
      ]
     },
     "metadata": {},
     "output_type": "display_data"
    },
    {
     "data": {
      "text/markdown": [
       "<span style=\"color:#33cc33\">Correct</span>"
      ],
      "text/plain": [
       "Correct"
      ]
     },
     "metadata": {},
     "output_type": "display_data"
    }
   ],
   "source": [
    "predictions = iowa_model.predict(X)\n",
    "print(predictions)\n",
    "\n",
    "# Check your answer\n",
    "step_4.check()"
   ]
  },
  {
   "cell_type": "code",
   "execution_count": 11,
   "id": "78a6f695",
   "metadata": {
    "execution": {
     "iopub.execute_input": "2023-08-11T18:57:33.806028Z",
     "iopub.status.busy": "2023-08-11T18:57:33.805605Z",
     "iopub.status.idle": "2023-08-11T18:57:33.815518Z",
     "shell.execute_reply": "2023-08-11T18:57:33.813949Z"
    },
    "papermill": {
     "duration": 0.024083,
     "end_time": "2023-08-11T18:57:33.819050",
     "exception": false,
     "start_time": "2023-08-11T18:57:33.794967",
     "status": "completed"
    },
    "tags": []
   },
   "outputs": [
    {
     "data": {
      "application/javascript": [
       "parent.postMessage({\"jupyterEvent\": \"custom.exercise_interaction\", \"data\": {\"interactionType\": 2, \"questionType\": 2, \"questionId\": \"4_MakePredictions\", \"learnToolsVersion\": \"0.3.4\", \"valueTowardsCompletion\": 0.0, \"failureMessage\": \"\", \"exceptionClass\": \"\", \"trace\": \"\", \"outcomeType\": 4}}, \"*\")"
      ],
      "text/plain": [
       "<IPython.core.display.Javascript object>"
      ]
     },
     "metadata": {},
     "output_type": "display_data"
    },
    {
     "data": {
      "text/markdown": [
       "<span style=\"color:#3366cc\">Hint:</span> Use `iowa_model.predict` with an argument holding the data to predict with."
      ],
      "text/plain": [
       "Hint: Use `iowa_model.predict` with an argument holding the data to predict with."
      ]
     },
     "metadata": {},
     "output_type": "display_data"
    }
   ],
   "source": [
    " step_4.hint()\n",
    "# step_4.solution()"
   ]
  },
  {
   "cell_type": "markdown",
   "id": "bdc85749",
   "metadata": {
    "papermill": {
     "duration": 0.009358,
     "end_time": "2023-08-11T18:57:33.838300",
     "exception": false,
     "start_time": "2023-08-11T18:57:33.828942",
     "status": "completed"
    },
    "tags": []
   },
   "source": [
    "## Think About Your Results\n",
    "\n",
    "Use the `head` method to compare the top few predictions to the actual home values (in `y`) for those same homes. Anything surprising?\n"
   ]
  },
  {
   "cell_type": "code",
   "execution_count": 12,
   "id": "a878fca2",
   "metadata": {
    "execution": {
     "iopub.execute_input": "2023-08-11T18:57:33.860481Z",
     "iopub.status.busy": "2023-08-11T18:57:33.860015Z",
     "iopub.status.idle": "2023-08-11T18:57:33.871461Z",
     "shell.execute_reply": "2023-08-11T18:57:33.870397Z"
    },
    "papermill": {
     "duration": 0.026741,
     "end_time": "2023-08-11T18:57:33.874722",
     "exception": false,
     "start_time": "2023-08-11T18:57:33.847981",
     "status": "completed"
    },
    "tags": []
   },
   "outputs": [
    {
     "name": "stdout",
     "output_type": "stream",
     "text": [
      "[208500. 181500. 223500. 140000. 250000.]\n",
      "[208500. 181500. 223500. 140000. 250000.]\n",
      "0       208500\n",
      "1       181500\n",
      "2       223500\n",
      "3       140000\n",
      "4       250000\n",
      "         ...  \n",
      "1455    175000\n",
      "1456    210000\n",
      "1457    266500\n",
      "1458    142125\n",
      "1459    147500\n",
      "Name: SalePrice, Length: 1460, dtype: int64\n"
     ]
    }
   ],
   "source": [
    "# You can write code in this cell\n",
    "print(iowa_model.predict(X.head()))\n",
    "print(iowa_model.predict(X.head()))\n",
    "print(y)"
   ]
  },
  {
   "cell_type": "markdown",
   "id": "300abb08",
   "metadata": {
    "papermill": {
     "duration": 0.009439,
     "end_time": "2023-08-11T18:57:33.893896",
     "exception": false,
     "start_time": "2023-08-11T18:57:33.884457",
     "status": "completed"
    },
    "tags": []
   },
   "source": [
    "It's natural to ask how accurate the model's predictions will be and how you can improve that. That will be you're next step.\n",
    "\n",
    "# Keep Going\n",
    "\n",
    "You are ready for **[Model Validation](https://www.kaggle.com/dansbecker/model-validation).**\n"
   ]
  },
  {
   "cell_type": "markdown",
   "id": "ee95c1eb",
   "metadata": {
    "papermill": {
     "duration": 0.009669,
     "end_time": "2023-08-11T18:57:33.913258",
     "exception": false,
     "start_time": "2023-08-11T18:57:33.903589",
     "status": "completed"
    },
    "tags": []
   },
   "source": [
    "---\n",
    "\n",
    "\n",
    "\n",
    "\n",
    "*Have questions or comments? Visit the [course discussion forum](https://www.kaggle.com/learn/intro-to-machine-learning/discussion) to chat with other learners.*"
   ]
  }
 ],
 "metadata": {
  "kernelspec": {
   "display_name": "Python 3",
   "language": "python",
   "name": "python3"
  },
  "language_info": {
   "codemirror_mode": {
    "name": "ipython",
    "version": 3
   },
   "file_extension": ".py",
   "mimetype": "text/x-python",
   "name": "python",
   "nbconvert_exporter": "python",
   "pygments_lexer": "ipython3",
   "version": "3.10.12"
  },
  "papermill": {
   "default_parameters": {},
   "duration": 14.479718,
   "end_time": "2023-08-11T18:57:34.845094",
   "environment_variables": {},
   "exception": null,
   "input_path": "__notebook__.ipynb",
   "output_path": "__notebook__.ipynb",
   "parameters": {},
   "start_time": "2023-08-11T18:57:20.365376",
   "version": "2.4.0"
  }
 },
 "nbformat": 4,
 "nbformat_minor": 5
}
